{
 "cells": [
  {
   "cell_type": "markdown",
   "metadata": {},
   "source": [
    "# Document Classification Test (HeavyWater Machine Learning Challenge)\n",
    "\n",
    "\n",
    "**Problem Statement**\n",
    "\n",
    "We process documents related to mortgages, aka everything that happens to originate a mortgage that you don't see as a borrower. Often times the only access to a document we have is a scan of a fax of a print out of the document. Our system is able to read and comprehend that document, turning a PDF into structured business content that our customers can act on.\n",
    "\n",
    "This dataset represents the output of the OCR stage of our data pipeline ...  Each word in the source is mapped to one unique value in the output. If the word appears in multiple documents then that value will appear multiple times. The word order for the dataset comes directly from our OCR layer, so it should be roughly in order.\n",
    "\n",
    "**Mission**\n",
    "\n",
    "Train a document classification model. Deploy your model to a public cloud platform (AWS/Google/Azure/Heroku) as a webservice, send us an email with the URL to you github repo, the URL of your publicly deployed service so we can submit test cases and a recorded screen cast demo of your solution's UI, its code and deployment steps. Also, we use AWS so we are partial to you using that ... just saying.\n",
    "\n",
    "**Lightweight way to test for tensorflow detection of GPUs (with diagnostics), using command line:**\n",
    "\n",
    "```python\n",
    "python3 -c \"from tensorflow.python.client import device_lib; print(device_lib.list_local_devices())\"\n",
    "```"
   ]
  },
  {
   "cell_type": "markdown",
   "metadata": {},
   "source": [
    "## Setup\n",
    "\n",
    "### Library import\n",
    "We import all the required Python libraries"
   ]
  },
  {
   "cell_type": "code",
   "execution_count": 1,
   "metadata": {
    "ExecuteTime": {
     "end_time": "2021-01-26T17:08:30.644082Z",
     "start_time": "2021-01-26T17:08:27.442789Z"
    },
    "scrolled": false
   },
   "outputs": [
    {
     "name": "stdout",
     "output_type": "stream",
     "text": [
      "Tue Jan 26 09:08:27 2021\n",
      "Python version:  (3, 6, 9, 'final', 0)\n",
      "Un-versioned imports:\n",
      "\n",
      "collections  gc  os  pathlib  pickle  random  sys\n",
      "\n",
      "colorcet: 1.0.0\tdateutil: 2.8.1\tgraphviz: 2.8.1\tjoblib: 0.14.1\tmatplotlib: 3.3.3\tnumpy: 1.19.5\tpandas: 1.1.4\tre: 2.2.1\tscipy: 1.4.1\tseaborn: 0.11.1\tsklearn: 0.22.1\ttensorflow: 2.4.1\ttensorflow_addons: 0.12.0\txgboost: None\t\n",
      "\n",
      "Δt:  2.2s.\n",
      "\n",
      "local devices:\n",
      "\n",
      " [name: \"/device:CPU:0\"\n",
      "device_type: \"CPU\"\n",
      "memory_limit: 268435456\n",
      "locality {\n",
      "}\n",
      "incarnation: 6719197005229904502\n",
      ", name: \"/device:GPU:0\"\n",
      "device_type: \"GPU\"\n",
      "memory_limit: 8500775488\n",
      "locality {\n",
      "  bus_id: 1\n",
      "  links {\n",
      "    link {\n",
      "      device_id: 1\n",
      "      type: \"StreamExecutor\"\n",
      "      strength: 1\n",
      "    }\n",
      "  }\n",
      "}\n",
      "incarnation: 4902572727110003974\n",
      "physical_device_desc: \"device: 0, name: GeForce GTX 1080 Ti, pci bus id: 0000:08:00.0, compute capability: 6.1\"\n",
      ", name: \"/device:GPU:1\"\n",
      "device_type: \"GPU\"\n",
      "memory_limit: 10767488768\n",
      "locality {\n",
      "  bus_id: 1\n",
      "  links {\n",
      "    link {\n",
      "      type: \"StreamExecutor\"\n",
      "      strength: 1\n",
      "    }\n",
      "  }\n",
      "}\n",
      "incarnation: 17724613305270392491\n",
      "physical_device_desc: \"device: 1, name: GeForce GTX 1080 Ti, pci bus id: 0000:42:00.0, compute capability: 6.1\"\n",
      "]\n"
     ]
    }
   ],
   "source": [
    "from time import asctime, gmtime, localtime, perf_counter\n",
    "print(asctime(localtime()))\n",
    "\n",
    "t0 = perf_counter()\n",
    "\n",
    "# from platform import node\n",
    "from collections import Counter, OrderedDict\n",
    "import gc\t\t# garbage collection module\n",
    "import os\n",
    "import pathlib\n",
    "import pickle\n",
    "from random import random\n",
    "import sys\n",
    "\n",
    "print(\"Python version: \", sys.version_info[:])\n",
    "print(\"Un-versioned imports:\\n\")\n",
    "prefixStr = ''\n",
    "print(prefixStr + 'collections', end=\"  \")\n",
    "print(prefixStr + 'gc', end=\"  \")\n",
    "print(prefixStr + 'os', end=\"  \")\n",
    "print(prefixStr + 'pathlib', end=\"  \")\n",
    "print(prefixStr + 'pickle', end=\"  \")\n",
    "print(prefixStr + 'random', end=\"  \")\n",
    "print(prefixStr + 'sys', end=\"\")\n",
    "\n",
    "import re\n",
    "\n",
    "from dateutil import __version__ as duVersion\n",
    "from dateutil.parser import parse\n",
    "import numpy as np\n",
    "\n",
    "mdVersion = None\n",
    "# from modin import __version__ as mdVersion\n",
    "# import modin.pandas as pd\n",
    "import pandas as pd\n",
    "ppVersion = None\n",
    "\n",
    "import graphviz\n",
    "\n",
    "scVersion = None\n",
    "from scipy import __version__ as scVersion\n",
    "import scipy.sparse as sp\n",
    "\n",
    "from sklearn import __version__ as skVersion\n",
    "# from sklearn.feature_extraction.text import TfidfVectorizer\n",
    "# from sklearn.feature_selection import chi2\n",
    "# from sklearn.model_selection import cross_val_score, GridSearchCV\n",
    "from sklearn.metrics import confusion_matrix, classification_report\n",
    "# from sklearn.metrics import f1_score, make_scorer\n",
    "from sklearn.model_selection import train_test_split\n",
    "# from sklearn.linear_model import LogisticRegression\n",
    "# from sklearn.ensemble import RandomForestClassifier, GradientBoostingClassifier\n",
    "# from sklearn.svm import LinearSVC  # , SVC\n",
    "# from sklearn.naive_bayes import ComplementNB, BernoulliNB\n",
    "from sklearn.utils import class_weight\n",
    "\n",
    "tfVersion = None\n",
    "from tensorflow import __version__ as tfVersion\n",
    "from tensorflow.keras.preprocessing.text import Tokenizer\n",
    "from tensorflow.keras.preprocessing.sequence import pad_sequences\n",
    "from tensorflow.keras import Input\n",
    "from tensorflow.keras.layers import Dense, Embedding, Bidirectional, LSTM, concatenate\n",
    "from tensorflow.keras.models import Model\n",
    "from tensorflow.keras.callbacks import ModelCheckpoint, TensorBoard\n",
    "from tensorflow.keras.utils import plot_model\n",
    "from tensorflow.keras import backend as K\n",
    "from tensorflow.python.client import device_lib \n",
    "from tensorflow import device\n",
    "from tensorflow.keras.metrics import SparseCategoricalCrossentropy\n",
    "\n",
    "\n",
    "tfaVersion = None\n",
    "from tensorflow_addons import __version__ as tfaVersion\n",
    "from tensorflow_addons.metrics import F1Score\n",
    "\n",
    "xgbVersion = None\n",
    "# from xgboost import __version__ as xgbVersion\n",
    "# from xgboost.sklearn import XGBClassifier\n",
    "\n",
    "from joblib import __version__ as jlVersion\n",
    "from joblib import dump, load\n",
    "\n",
    "# Visualizations\n",
    "\n",
    "mpVersion = None\n",
    "from matplotlib import __version__ as mpVersion\n",
    "import matplotlib.pyplot as plt\n",
    "\n",
    "import seaborn as sns\n",
    "import colorcet as cc\n",
    "\n",
    "print(\"\\n\")\n",
    "print(f\"colorcet: {cc.__version__}\", end=\"\\t\")\n",
    "print(f\"dateutil: {duVersion}\", end=\"\\t\")\n",
    "print(f\"graphviz: {duVersion}\", end=\"\\t\")\n",
    "print(f\"joblib: {jlVersion}\", end=\"\\t\")\n",
    "print(f\"matplotlib: {mpVersion}\", end=\"\\t\")\n",
    "if 'modin' in sys.modules:\n",
    "    print(f\"modin: {mdVersion}\", end=\"\\t\")\n",
    "print(f\"numpy: {np.__version__}\", end=\"\\t\")\n",
    "if 'pandas' in sys.modules:\n",
    "    print(f\"pandas: {pd.__version__}\", end=\"\\t\")\n",
    "print(f\"re: {re.__version__}\", end=\"\\t\")\n",
    "print(f\"scipy: {scVersion}\", end=\"\\t\")\n",
    "print(f\"seaborn: {sns.__version__}\", end=\"\\t\")\n",
    "print(f\"sklearn: {skVersion}\", end=\"\\t\")\n",
    "print(f\"tensorflow: {tfVersion}\", end=\"\\t\")\n",
    "print(f\"tensorflow_addons: {tfaVersion}\", end=\"\\t\")\n",
    "print(f\"xgboost: {xgbVersion}\", end=\"\\t\")\n",
    "# if '' in sys.modules:\n",
    "#     print(f\": {.__version__}\", end=\"\\t\")\n",
    "Δt = perf_counter() - t0\n",
    "print(f\"\\n\\nΔt: {Δt: 4.1f}s.\")\n",
    "\n",
    "print(\"\\nlocal devices:\\n\\n\", device_lib.list_local_devices())\n",
    "\n",
    "%matplotlib inline\n",
    "\n",
    "# Options for pandas\n",
    "pd.options.display.max_columns = 30\n",
    "pd.options.display.max_rows = 50\n",
    "\n",
    "# Autoreload extension\n",
    "if 'autoreload' not in get_ipython().extension_manager.loaded:\n",
    "    %load_ext autoreload\n",
    "    \n",
    "%autoreload 2"
   ]
  },
  {
   "cell_type": "markdown",
   "metadata": {},
   "source": [
    "### Local library import\n",
    "We import all the required local libraries libraries"
   ]
  },
  {
   "cell_type": "code",
   "execution_count": 2,
   "metadata": {
    "ExecuteTime": {
     "end_time": "2021-01-26T17:08:30.675325Z",
     "start_time": "2021-01-26T17:08:30.645548Z"
    },
    "scrolled": true
   },
   "outputs": [],
   "source": [
    "rootPath = pathlib.Path.cwd().parent\n",
    "libPath = rootPath / 'python'\n",
    "\n",
    "# Include local library paths\n",
    "sys.path.append(str(libPath)) # uncomment and fill to import local libraries\n",
    "\n",
    "# Import local libraries\n",
    "from utility import ModelTrain as mt\n",
    "from plotHelpers import plotHelpers as ph"
   ]
  },
  {
   "cell_type": "markdown",
   "metadata": {},
   "source": [
    "**Next two lines are for pretty output for all prints in a Pandas cell, not just the last**"
   ]
  },
  {
   "cell_type": "code",
   "execution_count": 3,
   "metadata": {
    "ExecuteTime": {
     "end_time": "2021-01-26T17:08:30.700386Z",
     "start_time": "2021-01-26T17:08:30.676709Z"
    }
   },
   "outputs": [],
   "source": [
    "from IPython.core.interactiveshell import InteractiveShell\n",
    "InteractiveShell.ast_node_interactivity = \"all\""
   ]
  },
  {
   "cell_type": "markdown",
   "metadata": {},
   "source": [
    "### Helper functions\n",
    "\n",
    "<a id=\"helper-tokenize\"></a>\n",
    "#### `tokenize()`"
   ]
  },
  {
   "cell_type": "code",
   "execution_count": 4,
   "metadata": {
    "ExecuteTime": {
     "end_time": "2021-01-26T17:08:30.726902Z",
     "start_time": "2021-01-26T17:08:30.701722Z"
    },
    "scrolled": false
   },
   "outputs": [
    {
     "name": "stdout",
     "output_type": "stream",
     "text": [
      "Help on class Tokenizer in module keras_preprocessing.text:\n",
      "\n",
      "class Tokenizer(builtins.object)\n",
      " |  Text tokenization utility class.\n",
      " |  \n",
      " |  This class allows to vectorize a text corpus, by turning each\n",
      " |  text into either a sequence of integers (each integer being the index\n",
      " |  of a token in a dictionary) or into a vector where the coefficient\n",
      " |  for each token could be binary, based on word count, based on tf-idf...\n",
      " |  \n",
      " |  # Arguments\n",
      " |      num_words: the maximum number of words to keep, based\n",
      " |          on word frequency. Only the most common `num_words-1` words will\n",
      " |          be kept.\n",
      " |      filters: a string where each element is a character that will be\n",
      " |          filtered from the texts. The default is all punctuation, plus\n",
      " |          tabs and line breaks, minus the `'` character.\n",
      " |      lower: boolean. Whether to convert the texts to lowercase.\n",
      " |      split: str. Separator for word splitting.\n",
      " |      char_level: if True, every character will be treated as a token.\n",
      " |      oov_token: if given, it will be added to word_index and used to\n",
      " |          replace out-of-vocabulary words during text_to_sequence calls\n",
      " |  \n",
      " |  By default, all punctuation is removed, turning the texts into\n",
      " |  space-separated sequences of words\n",
      " |  (words maybe include the `'` character). These sequences are then\n",
      " |  split into lists of tokens. They will then be indexed or vectorized.\n",
      " |  \n",
      " |  `0` is a reserved index that won't be assigned to any word.\n",
      " |  \n",
      " |  Methods defined here:\n",
      " |  \n",
      " |  __init__(self, num_words=None, filters='!\"#$%&()*+,-./:;<=>?@[\\\\]^_`{|}~\\t\\n', lower=True, split=' ', char_level=False, oov_token=None, document_count=0, **kwargs)\n",
      " |      Initialize self.  See help(type(self)) for accurate signature.\n",
      " |  \n",
      " |  fit_on_sequences(self, sequences)\n",
      " |      Updates internal vocabulary based on a list of sequences.\n",
      " |      \n",
      " |      Required before using `sequences_to_matrix`\n",
      " |      (if `fit_on_texts` was never called).\n",
      " |      \n",
      " |      # Arguments\n",
      " |          sequences: A list of sequence.\n",
      " |              A \"sequence\" is a list of integer word indices.\n",
      " |  \n",
      " |  fit_on_texts(self, texts)\n",
      " |      Updates internal vocabulary based on a list of texts.\n",
      " |      \n",
      " |      In the case where texts contains lists,\n",
      " |      we assume each entry of the lists to be a token.\n",
      " |      \n",
      " |      Required before using `texts_to_sequences` or `texts_to_matrix`.\n",
      " |      \n",
      " |      # Arguments\n",
      " |          texts: can be a list of strings,\n",
      " |              a generator of strings (for memory-efficiency),\n",
      " |              or a list of list of strings.\n",
      " |  \n",
      " |  get_config(self)\n",
      " |      Returns the tokenizer configuration as Python dictionary.\n",
      " |      The word count dictionaries used by the tokenizer get serialized\n",
      " |      into plain JSON, so that the configuration can be read by other\n",
      " |      projects.\n",
      " |      \n",
      " |      # Returns\n",
      " |          A Python dictionary with the tokenizer configuration.\n",
      " |  \n",
      " |  sequences_to_matrix(self, sequences, mode='binary')\n",
      " |      Converts a list of sequences into a Numpy matrix.\n",
      " |      \n",
      " |      # Arguments\n",
      " |          sequences: list of sequences\n",
      " |              (a sequence is a list of integer word indices).\n",
      " |          mode: one of \"binary\", \"count\", \"tfidf\", \"freq\"\n",
      " |      \n",
      " |      # Returns\n",
      " |          A Numpy matrix.\n",
      " |      \n",
      " |      # Raises\n",
      " |          ValueError: In case of invalid `mode` argument,\n",
      " |              or if the Tokenizer requires to be fit to sample data.\n",
      " |  \n",
      " |  sequences_to_texts(self, sequences)\n",
      " |      Transforms each sequence into a list of text.\n",
      " |      \n",
      " |      Only top `num_words-1` most frequent words will be taken into account.\n",
      " |      Only words known by the tokenizer will be taken into account.\n",
      " |      \n",
      " |      # Arguments\n",
      " |          sequences: A list of sequences (list of integers).\n",
      " |      \n",
      " |      # Returns\n",
      " |          A list of texts (strings)\n",
      " |  \n",
      " |  sequences_to_texts_generator(self, sequences)\n",
      " |      Transforms each sequence in `sequences` to a list of texts(strings).\n",
      " |      \n",
      " |      Each sequence has to a list of integers.\n",
      " |      In other words, sequences should be a list of sequences\n",
      " |      \n",
      " |      Only top `num_words-1` most frequent words will be taken into account.\n",
      " |      Only words known by the tokenizer will be taken into account.\n",
      " |      \n",
      " |      # Arguments\n",
      " |          sequences: A list of sequences.\n",
      " |      \n",
      " |      # Yields\n",
      " |          Yields individual texts.\n",
      " |  \n",
      " |  texts_to_matrix(self, texts, mode='binary')\n",
      " |      Convert a list of texts to a Numpy matrix.\n",
      " |      \n",
      " |      # Arguments\n",
      " |          texts: list of strings.\n",
      " |          mode: one of \"binary\", \"count\", \"tfidf\", \"freq\".\n",
      " |      \n",
      " |      # Returns\n",
      " |          A Numpy matrix.\n",
      " |  \n",
      " |  texts_to_sequences(self, texts)\n",
      " |      Transforms each text in texts to a sequence of integers.\n",
      " |      \n",
      " |      Only top `num_words-1` most frequent words will be taken into account.\n",
      " |      Only words known by the tokenizer will be taken into account.\n",
      " |      \n",
      " |      # Arguments\n",
      " |          texts: A list of texts (strings).\n",
      " |      \n",
      " |      # Returns\n",
      " |          A list of sequences.\n",
      " |  \n",
      " |  texts_to_sequences_generator(self, texts)\n",
      " |      Transforms each text in `texts` to a sequence of integers.\n",
      " |      \n",
      " |      Each item in texts can also be a list,\n",
      " |      in which case we assume each item of that list to be a token.\n",
      " |      \n",
      " |      Only top `num_words-1` most frequent words will be taken into account.\n",
      " |      Only words known by the tokenizer will be taken into account.\n",
      " |      \n",
      " |      # Arguments\n",
      " |          texts: A list of texts (strings).\n",
      " |      \n",
      " |      # Yields\n",
      " |          Yields individual sequences.\n",
      " |  \n",
      " |  to_json(self, **kwargs)\n",
      " |      Returns a JSON string containing the tokenizer configuration.\n",
      " |      To load a tokenizer from a JSON string, use\n",
      " |      `keras.preprocessing.text.tokenizer_from_json(json_string)`.\n",
      " |      \n",
      " |      # Arguments\n",
      " |          **kwargs: Additional keyword arguments\n",
      " |              to be passed to `json.dumps()`.\n",
      " |      \n",
      " |      # Returns\n",
      " |          A JSON string containing the tokenizer configuration.\n",
      " |  \n",
      " |  ----------------------------------------------------------------------\n",
      " |  Data descriptors defined here:\n",
      " |  \n",
      " |  __dict__\n",
      " |      dictionary for instance variables (if defined)\n",
      " |  \n",
      " |  __weakref__\n",
      " |      list of weak references to the object (if defined)\n",
      "\n"
     ]
    }
   ],
   "source": [
    "help(Tokenizer)"
   ]
  },
  {
   "cell_type": "code",
   "execution_count": 5,
   "metadata": {
    "ExecuteTime": {
     "end_time": "2021-01-26T17:08:30.754945Z",
     "start_time": "2021-01-26T17:08:30.728006Z"
    }
   },
   "outputs": [],
   "source": [
    "def tokenize(corpus, vocabSz):\n",
    "    \"\"\"\n",
    "    Generates the vocabulary and the list of list of integers for the input corpus\n",
    "\n",
    "    Help from: https://www.tensorflow.org/tutorials/text/nmt_with_attention\n",
    "\n",
    "    INPUTS:\n",
    "        corpus: list, type(str), containing (short) document strings\n",
    "        vocabSz: (int) Maximum number of words to consider in the vocabulary\n",
    "\n",
    "    RETURNS: List of list of indices for each string in the corpus + Keras sentence tokenizer object\n",
    "\n",
    "    Usage:\n",
    "        listOfListsOfIndices, sentenceTokenizer = tokenize(mySentences, maxVocabCt)\n",
    "    \"\"\"\n",
    "\n",
    "    # Define the sentence tokenizer\n",
    "    tokenizer = Tokenizer(num_words=vocabSz,\n",
    "    #                               filters='!#%()*+,./:;<=>?@[\\\\]^_`{|}~\\t\\n',\n",
    "                                  filters='%',\n",
    "                                  lower=False,\n",
    "                                  split=' ', char_level=False, oov_token=\"<unkwn>\")\n",
    "\n",
    "    # Keep the double quote, dash, and single quote + & (different from word2vec training: didn't keep `&`)\n",
    "    # oov_token: added to word_index & used to replace out-of-vocab words during text_to_sequence calls\n",
    "    # num_words = maximum number of words to keep, dropping least frequent\n",
    "\n",
    "    # Fit the tokenizer on the input corpus\n",
    "    tokenizer.fit_on_texts(corpus)\n",
    "\n",
    "    # Transform each text in corpus to a sequence of integers\n",
    "    listOfIndexLists = tokenizer.texts_to_sequences(corpus)\n",
    "\n",
    "    return listOfIndexLists, tokenizer"
   ]
  },
  {
   "cell_type": "markdown",
   "metadata": {},
   "source": [
    "#### `recallK()`"
   ]
  },
  {
   "cell_type": "code",
   "execution_count": 6,
   "metadata": {
    "ExecuteTime": {
     "end_time": "2021-01-26T17:08:30.781236Z",
     "start_time": "2021-01-26T17:08:30.757216Z"
    }
   },
   "outputs": [],
   "source": [
    "def recallK(yTrue, yPred):\n",
    "    truePositives = K.sum(K.round(K.clip(yTrue * yPred, 0, 1)))\n",
    "    possiblePositives = K.sum(K.round(K.clip(yTrue, 0, 1)))\n",
    "    recall = truePositives / (possiblePositives + K.epsilon())\n",
    "    return recall"
   ]
  },
  {
   "cell_type": "markdown",
   "metadata": {},
   "source": [
    "#### `precisionK()`"
   ]
  },
  {
   "cell_type": "code",
   "execution_count": 7,
   "metadata": {
    "ExecuteTime": {
     "end_time": "2021-01-26T17:08:30.807323Z",
     "start_time": "2021-01-26T17:08:30.782706Z"
    }
   },
   "outputs": [],
   "source": [
    "def precisionK(yTrue, yPred):\n",
    "    truePositives = K.sum(K.round(K.clip(yTrue * yPred, 0, 1)))\n",
    "    possiblePositives = K.sum(K.round(K.clip(yTrue, 0, 1)))\n",
    "    recall = truePositives / (possiblePositives + K.epsilon())\n",
    "    return recall"
   ]
  },
  {
   "cell_type": "markdown",
   "metadata": {},
   "source": [
    "#### `f1K()`"
   ]
  },
  {
   "cell_type": "code",
   "execution_count": 8,
   "metadata": {
    "ExecuteTime": {
     "end_time": "2021-01-26T17:08:30.832951Z",
     "start_time": "2021-01-26T17:08:30.808668Z"
    }
   },
   "outputs": [],
   "source": [
    "def f1K(yTrue, yPred):\n",
    "    truePositives = K.sum(K.round(K.clip(yTrue * yPred, 0, 1)))\n",
    "    possiblePositives = K.sum(K.round(K.clip(yTrue, 0, 1)))\n",
    "    recall = truePositives / (possiblePositives + K.epsilon())\n",
    "    return recall"
   ]
  },
  {
   "cell_type": "markdown",
   "metadata": {},
   "source": [
    "## Prepare Data\n",
    "\n",
    "#### Define paths"
   ]
  },
  {
   "cell_type": "code",
   "execution_count": 9,
   "metadata": {
    "ExecuteTime": {
     "end_time": "2021-01-26T17:08:30.857964Z",
     "start_time": "2021-01-26T17:08:30.834088Z"
    }
   },
   "outputs": [],
   "source": [
    "dataPath = rootPath / 'data'\n",
    "modelPath = rootPath / 'model'\n",
    "plotPath = rootPath / 'figures'\n",
    "checkpointPath = rootPath / 'checkpoints'\n",
    "tensorBoardPath = rootPath / 'tensorBoardLogs'"
   ]
  },
  {
   "cell_type": "markdown",
   "metadata": {},
   "source": [
    "### Import data"
   ]
  },
  {
   "cell_type": "code",
   "execution_count": 10,
   "metadata": {
    "ExecuteTime": {
     "end_time": "2021-01-26T17:08:33.250105Z",
     "start_time": "2021-01-26T17:08:30.859310Z"
    },
    "scrolled": false
   },
   "outputs": [
    {
     "data": {
      "text/html": [
       "<div>\n",
       "<style scoped>\n",
       "    .dataframe tbody tr th:only-of-type {\n",
       "        vertical-align: middle;\n",
       "    }\n",
       "\n",
       "    .dataframe tbody tr th {\n",
       "        vertical-align: top;\n",
       "    }\n",
       "\n",
       "    .dataframe thead th {\n",
       "        text-align: right;\n",
       "    }\n",
       "</style>\n",
       "<table border=\"1\" class=\"dataframe\">\n",
       "  <thead>\n",
       "    <tr style=\"text-align: right;\">\n",
       "      <th></th>\n",
       "      <th>category</th>\n",
       "      <th>docText</th>\n",
       "    </tr>\n",
       "  </thead>\n",
       "  <tbody>\n",
       "    <tr>\n",
       "      <th>0</th>\n",
       "      <td>DELETION OF INTEREST</td>\n",
       "      <td>e04a09c87692 d6b72e591b91 5d066f0246f1 ed41171...</td>\n",
       "    </tr>\n",
       "    <tr>\n",
       "      <th>1</th>\n",
       "      <td>RETURNED CHECK</td>\n",
       "      <td>a3b334c6eefd be95012ebf2b 41d67080e078 ff1c26e...</td>\n",
       "    </tr>\n",
       "    <tr>\n",
       "      <th>2</th>\n",
       "      <td>BILL</td>\n",
       "      <td>586242498a88 9ccf259ca087 54709b24b45f 6bf9c0c...</td>\n",
       "    </tr>\n",
       "    <tr>\n",
       "      <th>3</th>\n",
       "      <td>BILL</td>\n",
       "      <td>cd50e861f48b 6ca2dd348663 d38820625542 f077614...</td>\n",
       "    </tr>\n",
       "    <tr>\n",
       "      <th>4</th>\n",
       "      <td>BILL</td>\n",
       "      <td>9db5536263d8 1c303d15eb65 3f89b4673455 b73e657...</td>\n",
       "    </tr>\n",
       "  </tbody>\n",
       "</table>\n",
       "</div>"
      ],
      "text/plain": [
       "               category                                            docText\n",
       "0  DELETION OF INTEREST  e04a09c87692 d6b72e591b91 5d066f0246f1 ed41171...\n",
       "1        RETURNED CHECK  a3b334c6eefd be95012ebf2b 41d67080e078 ff1c26e...\n",
       "2                  BILL  586242498a88 9ccf259ca087 54709b24b45f 6bf9c0c...\n",
       "3                  BILL  cd50e861f48b 6ca2dd348663 d38820625542 f077614...\n",
       "4                  BILL  9db5536263d8 1c303d15eb65 3f89b4673455 b73e657..."
      ]
     },
     "execution_count": 10,
     "metadata": {},
     "output_type": "execute_result"
    },
    {
     "data": {
      "text/html": [
       "<div>\n",
       "<style scoped>\n",
       "    .dataframe tbody tr th:only-of-type {\n",
       "        vertical-align: middle;\n",
       "    }\n",
       "\n",
       "    .dataframe tbody tr th {\n",
       "        vertical-align: top;\n",
       "    }\n",
       "\n",
       "    .dataframe thead th {\n",
       "        text-align: right;\n",
       "    }\n",
       "</style>\n",
       "<table border=\"1\" class=\"dataframe\">\n",
       "  <thead>\n",
       "    <tr style=\"text-align: right;\">\n",
       "      <th></th>\n",
       "      <th>category</th>\n",
       "      <th>docText</th>\n",
       "    </tr>\n",
       "  </thead>\n",
       "  <tbody>\n",
       "    <tr>\n",
       "      <th>62199</th>\n",
       "      <td>CANCELLATION NOTICE</td>\n",
       "      <td>6bf9c0cb01b4 52102c70348d 1b6d0614f2c7 246ee0c...</td>\n",
       "    </tr>\n",
       "    <tr>\n",
       "      <th>62200</th>\n",
       "      <td>BINDER</td>\n",
       "      <td>816aed74475e 288ccf089872 fe33912c5732 5d00ab6...</td>\n",
       "    </tr>\n",
       "    <tr>\n",
       "      <th>62201</th>\n",
       "      <td>BILL</td>\n",
       "      <td>f95d0bea231b 894305951372 c9a53ea6e219 8f6018d...</td>\n",
       "    </tr>\n",
       "    <tr>\n",
       "      <th>62202</th>\n",
       "      <td>CANCELLATION NOTICE</td>\n",
       "      <td>5ee06767bc0f 106de4332a24 46a0c35e916c 54709b2...</td>\n",
       "    </tr>\n",
       "    <tr>\n",
       "      <th>62203</th>\n",
       "      <td>CANCELLATION NOTICE</td>\n",
       "      <td>586242498a88 21e314d3afcc 818a7ff3bf29 4e43b72...</td>\n",
       "    </tr>\n",
       "  </tbody>\n",
       "</table>\n",
       "</div>"
      ],
      "text/plain": [
       "                  category                                            docText\n",
       "62199  CANCELLATION NOTICE  6bf9c0cb01b4 52102c70348d 1b6d0614f2c7 246ee0c...\n",
       "62200               BINDER  816aed74475e 288ccf089872 fe33912c5732 5d00ab6...\n",
       "62201                 BILL  f95d0bea231b 894305951372 c9a53ea6e219 8f6018d...\n",
       "62202  CANCELLATION NOTICE  5ee06767bc0f 106de4332a24 46a0c35e916c 54709b2...\n",
       "62203  CANCELLATION NOTICE  586242498a88 21e314d3afcc 818a7ff3bf29 4e43b72..."
      ]
     },
     "execution_count": 10,
     "metadata": {},
     "output_type": "execute_result"
    }
   ],
   "source": [
    "sourceData = dataPath / 'shuffled-full-set-hashed.csv.zip'\n",
    "df0 = pd.read_csv(sourceData, header=None, names=['category', 'docText'])\n",
    "df0.head()\n",
    "df0.tail()"
   ]
  },
  {
   "cell_type": "markdown",
   "metadata": {},
   "source": [
    "### Munge/inspect data\n",
    "\n",
    "**There are 45 null documents**"
   ]
  },
  {
   "cell_type": "code",
   "execution_count": 11,
   "metadata": {
    "ExecuteTime": {
     "end_time": "2021-01-26T17:08:33.290614Z",
     "start_time": "2021-01-26T17:08:33.251328Z"
    }
   },
   "outputs": [
    {
     "name": "stdout",
     "output_type": "stream",
     "text": [
      "<class 'pandas.core.frame.DataFrame'>\n",
      "RangeIndex: 62204 entries, 0 to 62203\n",
      "Data columns (total 2 columns):\n",
      " #   Column    Non-Null Count  Dtype \n",
      "---  ------    --------------  ----- \n",
      " 0   category  62204 non-null  object\n",
      " 1   docText   62159 non-null  object\n",
      "dtypes: object(2)\n",
      "memory usage: 972.1+ KB\n"
     ]
    }
   ],
   "source": [
    "df0.info()"
   ]
  },
  {
   "cell_type": "markdown",
   "metadata": {},
   "source": [
    "**How distributed?**"
   ]
  },
  {
   "cell_type": "code",
   "execution_count": 12,
   "metadata": {
    "ExecuteTime": {
     "end_time": "2021-01-26T17:08:33.327951Z",
     "start_time": "2021-01-26T17:08:33.291878Z"
    }
   },
   "outputs": [
    {
     "data": {
      "text/plain": [
       "category\n",
       "BILL                     9\n",
       "BINDER                  21\n",
       "CANCELLATION NOTICE      2\n",
       "DECLARATION              1\n",
       "POLICY CHANGE           11\n",
       "REINSTATEMENT NOTICE     1\n",
       "dtype: int64"
      ]
     },
     "execution_count": 12,
     "metadata": {},
     "output_type": "execute_result"
    }
   ],
   "source": [
    "df0[df0.docText.isna()].groupby(by='category').size()"
   ]
  },
  {
   "cell_type": "markdown",
   "metadata": {},
   "source": [
    "**Have a look at some empty documents**\n",
    "\n",
    "Yep, line numbers correspond to locations in .csv file."
   ]
  },
  {
   "cell_type": "code",
   "execution_count": 13,
   "metadata": {
    "ExecuteTime": {
     "end_time": "2021-01-26T17:08:33.366713Z",
     "start_time": "2021-01-26T17:08:33.329159Z"
    },
    "scrolled": false
   },
   "outputs": [
    {
     "data": {
      "text/html": [
       "<div>\n",
       "<style scoped>\n",
       "    .dataframe tbody tr th:only-of-type {\n",
       "        vertical-align: middle;\n",
       "    }\n",
       "\n",
       "    .dataframe tbody tr th {\n",
       "        vertical-align: top;\n",
       "    }\n",
       "\n",
       "    .dataframe thead th {\n",
       "        text-align: right;\n",
       "    }\n",
       "</style>\n",
       "<table border=\"1\" class=\"dataframe\">\n",
       "  <thead>\n",
       "    <tr style=\"text-align: right;\">\n",
       "      <th></th>\n",
       "      <th>category</th>\n",
       "      <th>docText</th>\n",
       "    </tr>\n",
       "  </thead>\n",
       "  <tbody>\n",
       "    <tr>\n",
       "      <th>835</th>\n",
       "      <td>BINDER</td>\n",
       "      <td>NaN</td>\n",
       "    </tr>\n",
       "    <tr>\n",
       "      <th>2572</th>\n",
       "      <td>POLICY CHANGE</td>\n",
       "      <td>NaN</td>\n",
       "    </tr>\n",
       "    <tr>\n",
       "      <th>2579</th>\n",
       "      <td>BINDER</td>\n",
       "      <td>NaN</td>\n",
       "    </tr>\n",
       "    <tr>\n",
       "      <th>3482</th>\n",
       "      <td>BINDER</td>\n",
       "      <td>NaN</td>\n",
       "    </tr>\n",
       "    <tr>\n",
       "      <th>5019</th>\n",
       "      <td>BINDER</td>\n",
       "      <td>NaN</td>\n",
       "    </tr>\n",
       "    <tr>\n",
       "      <th>5748</th>\n",
       "      <td>BINDER</td>\n",
       "      <td>NaN</td>\n",
       "    </tr>\n",
       "  </tbody>\n",
       "</table>\n",
       "</div>"
      ],
      "text/plain": [
       "           category docText\n",
       "835          BINDER     NaN\n",
       "2572  POLICY CHANGE     NaN\n",
       "2579         BINDER     NaN\n",
       "3482         BINDER     NaN\n",
       "5019         BINDER     NaN\n",
       "5748         BINDER     NaN"
      ]
     },
     "execution_count": 13,
     "metadata": {},
     "output_type": "execute_result"
    }
   ],
   "source": [
    "df0[df0.docText.isna()].head(6)"
   ]
  },
  {
   "cell_type": "markdown",
   "metadata": {},
   "source": [
    "**There are 14 document categories**"
   ]
  },
  {
   "cell_type": "code",
   "execution_count": 14,
   "metadata": {
    "ExecuteTime": {
     "end_time": "2021-01-26T17:08:33.396255Z",
     "start_time": "2021-01-26T17:08:33.368059Z"
    },
    "scrolled": true
   },
   "outputs": [
    {
     "data": {
      "text/plain": [
       "14"
      ]
     },
     "execution_count": 14,
     "metadata": {},
     "output_type": "execute_result"
    },
    {
     "name": "stdout",
     "output_type": "stream",
     "text": [
      "['DELETION OF INTEREST' 'RETURNED CHECK' 'BILL' 'POLICY CHANGE'\n",
      " 'CANCELLATION NOTICE' 'DECLARATION' 'CHANGE ENDORSEMENT'\n",
      " 'NON-RENEWAL NOTICE' 'BINDER' 'REINSTATEMENT NOTICE' 'EXPIRATION NOTICE'\n",
      " 'INTENT TO CANCEL NOTICE' 'APPLICATION' 'BILL BINDER']\n"
     ]
    }
   ],
   "source": [
    "categories = df0.category.unique()\n",
    "len(categories)\n",
    "print(categories)"
   ]
  },
  {
   "cell_type": "markdown",
   "metadata": {},
   "source": [
    "#### Extract tokens (for the sake of getting document lengths)"
   ]
  },
  {
   "cell_type": "code",
   "execution_count": 15,
   "metadata": {
    "ExecuteTime": {
     "end_time": "2021-01-26T17:08:34.902686Z",
     "start_time": "2021-01-26T17:08:33.397498Z"
    }
   },
   "outputs": [
    {
     "data": {
      "text/html": [
       "<div>\n",
       "<style scoped>\n",
       "    .dataframe tbody tr th:only-of-type {\n",
       "        vertical-align: middle;\n",
       "    }\n",
       "\n",
       "    .dataframe tbody tr th {\n",
       "        vertical-align: top;\n",
       "    }\n",
       "\n",
       "    .dataframe thead th {\n",
       "        text-align: right;\n",
       "    }\n",
       "</style>\n",
       "<table border=\"1\" class=\"dataframe\">\n",
       "  <thead>\n",
       "    <tr style=\"text-align: right;\">\n",
       "      <th></th>\n",
       "      <th>category</th>\n",
       "      <th>docText</th>\n",
       "      <th>tokens</th>\n",
       "    </tr>\n",
       "  </thead>\n",
       "  <tbody>\n",
       "    <tr>\n",
       "      <th>0</th>\n",
       "      <td>DELETION OF INTEREST</td>\n",
       "      <td>e04a09c87692 d6b72e591b91 5d066f0246f1 ed41171...</td>\n",
       "      <td>[e04a09c87692, d6b72e591b91, 5d066f0246f1, ed4...</td>\n",
       "    </tr>\n",
       "    <tr>\n",
       "      <th>1</th>\n",
       "      <td>RETURNED CHECK</td>\n",
       "      <td>a3b334c6eefd be95012ebf2b 41d67080e078 ff1c26e...</td>\n",
       "      <td>[a3b334c6eefd, be95012ebf2b, 41d67080e078, ff1...</td>\n",
       "    </tr>\n",
       "    <tr>\n",
       "      <th>2</th>\n",
       "      <td>BILL</td>\n",
       "      <td>586242498a88 9ccf259ca087 54709b24b45f 6bf9c0c...</td>\n",
       "      <td>[586242498a88, 9ccf259ca087, 54709b24b45f, 6bf...</td>\n",
       "    </tr>\n",
       "    <tr>\n",
       "      <th>3</th>\n",
       "      <td>BILL</td>\n",
       "      <td>cd50e861f48b 6ca2dd348663 d38820625542 f077614...</td>\n",
       "      <td>[cd50e861f48b, 6ca2dd348663, d38820625542, f07...</td>\n",
       "    </tr>\n",
       "    <tr>\n",
       "      <th>4</th>\n",
       "      <td>BILL</td>\n",
       "      <td>9db5536263d8 1c303d15eb65 3f89b4673455 b73e657...</td>\n",
       "      <td>[9db5536263d8, 1c303d15eb65, 3f89b4673455, b73...</td>\n",
       "    </tr>\n",
       "  </tbody>\n",
       "</table>\n",
       "</div>"
      ],
      "text/plain": [
       "               category                                            docText  \\\n",
       "0  DELETION OF INTEREST  e04a09c87692 d6b72e591b91 5d066f0246f1 ed41171...   \n",
       "1        RETURNED CHECK  a3b334c6eefd be95012ebf2b 41d67080e078 ff1c26e...   \n",
       "2                  BILL  586242498a88 9ccf259ca087 54709b24b45f 6bf9c0c...   \n",
       "3                  BILL  cd50e861f48b 6ca2dd348663 d38820625542 f077614...   \n",
       "4                  BILL  9db5536263d8 1c303d15eb65 3f89b4673455 b73e657...   \n",
       "\n",
       "                                              tokens  \n",
       "0  [e04a09c87692, d6b72e591b91, 5d066f0246f1, ed4...  \n",
       "1  [a3b334c6eefd, be95012ebf2b, 41d67080e078, ff1...  \n",
       "2  [586242498a88, 9ccf259ca087, 54709b24b45f, 6bf...  \n",
       "3  [cd50e861f48b, 6ca2dd348663, d38820625542, f07...  \n",
       "4  [9db5536263d8, 1c303d15eb65, 3f89b4673455, b73...  "
      ]
     },
     "execution_count": 15,
     "metadata": {},
     "output_type": "execute_result"
    }
   ],
   "source": [
    "df0['tokens'] = df0.docText.apply(lambda p: [] if isinstance(p, float) else p.split())\n",
    "df0.head()"
   ]
  },
  {
   "cell_type": "markdown",
   "metadata": {},
   "source": [
    "#### Get token counts"
   ]
  },
  {
   "cell_type": "code",
   "execution_count": 16,
   "metadata": {
    "ExecuteTime": {
     "end_time": "2021-01-26T17:08:34.967031Z",
     "start_time": "2021-01-26T17:08:34.903998Z"
    }
   },
   "outputs": [
    {
     "data": {
      "text/html": [
       "<div>\n",
       "<style scoped>\n",
       "    .dataframe tbody tr th:only-of-type {\n",
       "        vertical-align: middle;\n",
       "    }\n",
       "\n",
       "    .dataframe tbody tr th {\n",
       "        vertical-align: top;\n",
       "    }\n",
       "\n",
       "    .dataframe thead th {\n",
       "        text-align: right;\n",
       "    }\n",
       "</style>\n",
       "<table border=\"1\" class=\"dataframe\">\n",
       "  <thead>\n",
       "    <tr style=\"text-align: right;\">\n",
       "      <th></th>\n",
       "      <th>category</th>\n",
       "      <th>docText</th>\n",
       "      <th>tokens</th>\n",
       "      <th>docLength</th>\n",
       "    </tr>\n",
       "  </thead>\n",
       "  <tbody>\n",
       "    <tr>\n",
       "      <th>0</th>\n",
       "      <td>DELETION OF INTEREST</td>\n",
       "      <td>e04a09c87692 d6b72e591b91 5d066f0246f1 ed41171...</td>\n",
       "      <td>[e04a09c87692, d6b72e591b91, 5d066f0246f1, ed4...</td>\n",
       "      <td>465</td>\n",
       "    </tr>\n",
       "    <tr>\n",
       "      <th>1</th>\n",
       "      <td>RETURNED CHECK</td>\n",
       "      <td>a3b334c6eefd be95012ebf2b 41d67080e078 ff1c26e...</td>\n",
       "      <td>[a3b334c6eefd, be95012ebf2b, 41d67080e078, ff1...</td>\n",
       "      <td>403</td>\n",
       "    </tr>\n",
       "    <tr>\n",
       "      <th>2</th>\n",
       "      <td>BILL</td>\n",
       "      <td>586242498a88 9ccf259ca087 54709b24b45f 6bf9c0c...</td>\n",
       "      <td>[586242498a88, 9ccf259ca087, 54709b24b45f, 6bf...</td>\n",
       "      <td>185</td>\n",
       "    </tr>\n",
       "    <tr>\n",
       "      <th>3</th>\n",
       "      <td>BILL</td>\n",
       "      <td>cd50e861f48b 6ca2dd348663 d38820625542 f077614...</td>\n",
       "      <td>[cd50e861f48b, 6ca2dd348663, d38820625542, f07...</td>\n",
       "      <td>337</td>\n",
       "    </tr>\n",
       "    <tr>\n",
       "      <th>4</th>\n",
       "      <td>BILL</td>\n",
       "      <td>9db5536263d8 1c303d15eb65 3f89b4673455 b73e657...</td>\n",
       "      <td>[9db5536263d8, 1c303d15eb65, 3f89b4673455, b73...</td>\n",
       "      <td>546</td>\n",
       "    </tr>\n",
       "  </tbody>\n",
       "</table>\n",
       "</div>"
      ],
      "text/plain": [
       "               category                                            docText  \\\n",
       "0  DELETION OF INTEREST  e04a09c87692 d6b72e591b91 5d066f0246f1 ed41171...   \n",
       "1        RETURNED CHECK  a3b334c6eefd be95012ebf2b 41d67080e078 ff1c26e...   \n",
       "2                  BILL  586242498a88 9ccf259ca087 54709b24b45f 6bf9c0c...   \n",
       "3                  BILL  cd50e861f48b 6ca2dd348663 d38820625542 f077614...   \n",
       "4                  BILL  9db5536263d8 1c303d15eb65 3f89b4673455 b73e657...   \n",
       "\n",
       "                                              tokens  docLength  \n",
       "0  [e04a09c87692, d6b72e591b91, 5d066f0246f1, ed4...        465  \n",
       "1  [a3b334c6eefd, be95012ebf2b, 41d67080e078, ff1...        403  \n",
       "2  [586242498a88, 9ccf259ca087, 54709b24b45f, 6bf...        185  \n",
       "3  [cd50e861f48b, 6ca2dd348663, d38820625542, f07...        337  \n",
       "4  [9db5536263d8, 1c303d15eb65, 3f89b4673455, b73...        546  "
      ]
     },
     "execution_count": 16,
     "metadata": {},
     "output_type": "execute_result"
    }
   ],
   "source": [
    "df0['docLength'] = df0.tokens.apply(lambda t: len(t))\n",
    "df0.head()"
   ]
  },
  {
   "cell_type": "markdown",
   "metadata": {},
   "source": [
    "## Pre-process data\n",
    "\n",
    "<a id=\"maxvocabct\"></a>\n",
    "Must specify a limit to the number of unique tokens for the tokenizer.\n",
    "(Changing this will require re-instantiating it.)\n",
    "\n",
    "* `maxVocabCt`\t\t\tvocabulary size to be returned by tokenizer, dropping least frequent\n",
    "\n",
    "Other parameters are defined below in [Model parameters](#model-parameters)."
   ]
  },
  {
   "cell_type": "code",
   "execution_count": 17,
   "metadata": {
    "ExecuteTime": {
     "end_time": "2021-01-26T17:08:34.991719Z",
     "start_time": "2021-01-26T17:08:34.968290Z"
    }
   },
   "outputs": [],
   "source": [
    "maxVocabCt = 100_000"
   ]
  },
  {
   "cell_type": "markdown",
   "metadata": {},
   "source": [
    "### Test-train split\n",
    "\n",
    "* remove documents of length < <font color=\"darkred\">**6**</font>:\n",
    "  * these are unlikely to be informative, and probably are result of scan error\n",
    "  * probably should have these labeled as an error, for human review, rather than risk downstream adoption\n",
    "* class imbalance spanning almost 2 orders of magnitude ⟶ *stratified sampling*\n",
    "* smallest classes 229 instances, so need half to test with ~10% uncertainty\n",
    "* after model selection, can train on entire data set"
   ]
  },
  {
   "cell_type": "code",
   "execution_count": 18,
   "metadata": {
    "ExecuteTime": {
     "end_time": "2021-01-26T17:08:35.050786Z",
     "start_time": "2021-01-26T17:08:34.993293Z"
    },
    "scrolled": false
   },
   "outputs": [
    {
     "data": {
      "text/plain": [
       "((62204, 4), (62112, 4))"
      ]
     },
     "execution_count": 18,
     "metadata": {},
     "output_type": "execute_result"
    }
   ],
   "source": [
    "df = df0.copy()[df0.docLength > 5]\n",
    "df0.shape, df.shape"
   ]
  },
  {
   "cell_type": "code",
   "execution_count": 19,
   "metadata": {
    "ExecuteTime": {
     "end_time": "2021-01-26T17:08:35.177074Z",
     "start_time": "2021-01-26T17:08:35.052096Z"
    }
   },
   "outputs": [
    {
     "data": {
      "text/plain": [
       "((31056, 4), (31056, 4))"
      ]
     },
     "execution_count": 19,
     "metadata": {},
     "output_type": "execute_result"
    },
    {
     "data": {
      "text/html": [
       "<div>\n",
       "<style scoped>\n",
       "    .dataframe tbody tr th:only-of-type {\n",
       "        vertical-align: middle;\n",
       "    }\n",
       "\n",
       "    .dataframe tbody tr th {\n",
       "        vertical-align: top;\n",
       "    }\n",
       "\n",
       "    .dataframe thead th {\n",
       "        text-align: right;\n",
       "    }\n",
       "</style>\n",
       "<table border=\"1\" class=\"dataframe\">\n",
       "  <thead>\n",
       "    <tr style=\"text-align: right;\">\n",
       "      <th></th>\n",
       "      <th>category</th>\n",
       "      <th>docText</th>\n",
       "      <th>tokens</th>\n",
       "      <th>docLength</th>\n",
       "    </tr>\n",
       "  </thead>\n",
       "  <tbody>\n",
       "    <tr>\n",
       "      <th>30571</th>\n",
       "      <td>RETURNED CHECK</td>\n",
       "      <td>776d8e8eda28 9d9120c02975 ce015f48ae93 52152b0...</td>\n",
       "      <td>[776d8e8eda28, 9d9120c02975, ce015f48ae93, 521...</td>\n",
       "      <td>323</td>\n",
       "    </tr>\n",
       "    <tr>\n",
       "      <th>59800</th>\n",
       "      <td>BILL</td>\n",
       "      <td>25c57acdf805 a3df59e68df2 a845e8e2dbe6 aa1ef5f...</td>\n",
       "      <td>[25c57acdf805, a3df59e68df2, a845e8e2dbe6, aa1...</td>\n",
       "      <td>191</td>\n",
       "    </tr>\n",
       "    <tr>\n",
       "      <th>46960</th>\n",
       "      <td>POLICY CHANGE</td>\n",
       "      <td>eb51798a89e1 08afcb631448 72bd4a50cf4a 1068682...</td>\n",
       "      <td>[eb51798a89e1, 08afcb631448, 72bd4a50cf4a, 106...</td>\n",
       "      <td>482</td>\n",
       "    </tr>\n",
       "    <tr>\n",
       "      <th>3576</th>\n",
       "      <td>BINDER</td>\n",
       "      <td>bf3aa3fc66f6 7e07ecc160fd e1b9e4df3a88 769e648...</td>\n",
       "      <td>[bf3aa3fc66f6, 7e07ecc160fd, e1b9e4df3a88, 769...</td>\n",
       "      <td>256</td>\n",
       "    </tr>\n",
       "    <tr>\n",
       "      <th>4376</th>\n",
       "      <td>BILL</td>\n",
       "      <td>25c57acdf805 2a49f4793e03 6ce6cc5a3203 dee46d3...</td>\n",
       "      <td>[25c57acdf805, 2a49f4793e03, 6ce6cc5a3203, dee...</td>\n",
       "      <td>283</td>\n",
       "    </tr>\n",
       "  </tbody>\n",
       "</table>\n",
       "</div>"
      ],
      "text/plain": [
       "             category                                            docText  \\\n",
       "30571  RETURNED CHECK  776d8e8eda28 9d9120c02975 ce015f48ae93 52152b0...   \n",
       "59800            BILL  25c57acdf805 a3df59e68df2 a845e8e2dbe6 aa1ef5f...   \n",
       "46960   POLICY CHANGE  eb51798a89e1 08afcb631448 72bd4a50cf4a 1068682...   \n",
       "3576           BINDER  bf3aa3fc66f6 7e07ecc160fd e1b9e4df3a88 769e648...   \n",
       "4376             BILL  25c57acdf805 2a49f4793e03 6ce6cc5a3203 dee46d3...   \n",
       "\n",
       "                                                  tokens  docLength  \n",
       "30571  [776d8e8eda28, 9d9120c02975, ce015f48ae93, 521...        323  \n",
       "59800  [25c57acdf805, a3df59e68df2, a845e8e2dbe6, aa1...        191  \n",
       "46960  [eb51798a89e1, 08afcb631448, 72bd4a50cf4a, 106...        482  \n",
       "3576   [bf3aa3fc66f6, 7e07ecc160fd, e1b9e4df3a88, 769...        256  \n",
       "4376   [25c57acdf805, 2a49f4793e03, 6ce6cc5a3203, dee...        283  "
      ]
     },
     "execution_count": 19,
     "metadata": {},
     "output_type": "execute_result"
    },
    {
     "data": {
      "text/html": [
       "<div>\n",
       "<style scoped>\n",
       "    .dataframe tbody tr th:only-of-type {\n",
       "        vertical-align: middle;\n",
       "    }\n",
       "\n",
       "    .dataframe tbody tr th {\n",
       "        vertical-align: top;\n",
       "    }\n",
       "\n",
       "    .dataframe thead th {\n",
       "        text-align: right;\n",
       "    }\n",
       "</style>\n",
       "<table border=\"1\" class=\"dataframe\">\n",
       "  <thead>\n",
       "    <tr style=\"text-align: right;\">\n",
       "      <th></th>\n",
       "      <th>category</th>\n",
       "      <th>docText</th>\n",
       "      <th>tokens</th>\n",
       "      <th>docLength</th>\n",
       "    </tr>\n",
       "  </thead>\n",
       "  <tbody>\n",
       "    <tr>\n",
       "      <th>3351</th>\n",
       "      <td>DECLARATION</td>\n",
       "      <td>a0c020166d79 133d46f7ed38 fe64d3cdfe5b 36e7aa7...</td>\n",
       "      <td>[a0c020166d79, 133d46f7ed38, fe64d3cdfe5b, 36e...</td>\n",
       "      <td>675</td>\n",
       "    </tr>\n",
       "    <tr>\n",
       "      <th>38868</th>\n",
       "      <td>BINDER</td>\n",
       "      <td>d9ef68daef4c 04503bc22789 afb1e3806fc1 e7e059c...</td>\n",
       "      <td>[d9ef68daef4c, 04503bc22789, afb1e3806fc1, e7e...</td>\n",
       "      <td>275</td>\n",
       "    </tr>\n",
       "    <tr>\n",
       "      <th>21988</th>\n",
       "      <td>CHANGE ENDORSEMENT</td>\n",
       "      <td>5e99d31d8fa4 b99d622bf8e3 ecb0dd7353a4 816a114...</td>\n",
       "      <td>[5e99d31d8fa4, b99d622bf8e3, ecb0dd7353a4, 816...</td>\n",
       "      <td>110</td>\n",
       "    </tr>\n",
       "    <tr>\n",
       "      <th>57907</th>\n",
       "      <td>BILL</td>\n",
       "      <td>3572a5c01503 21ab107e9310 a1fde4983c10 8ba05d1...</td>\n",
       "      <td>[3572a5c01503, 21ab107e9310, a1fde4983c10, 8ba...</td>\n",
       "      <td>251</td>\n",
       "    </tr>\n",
       "    <tr>\n",
       "      <th>49746</th>\n",
       "      <td>BINDER</td>\n",
       "      <td>33a62c972b6f c4f716054f25 93202e5da9ab ba02159...</td>\n",
       "      <td>[33a62c972b6f, c4f716054f25, 93202e5da9ab, ba0...</td>\n",
       "      <td>368</td>\n",
       "    </tr>\n",
       "  </tbody>\n",
       "</table>\n",
       "</div>"
      ],
      "text/plain": [
       "                 category                                            docText  \\\n",
       "3351          DECLARATION  a0c020166d79 133d46f7ed38 fe64d3cdfe5b 36e7aa7...   \n",
       "38868              BINDER  d9ef68daef4c 04503bc22789 afb1e3806fc1 e7e059c...   \n",
       "21988  CHANGE ENDORSEMENT  5e99d31d8fa4 b99d622bf8e3 ecb0dd7353a4 816a114...   \n",
       "57907                BILL  3572a5c01503 21ab107e9310 a1fde4983c10 8ba05d1...   \n",
       "49746              BINDER  33a62c972b6f c4f716054f25 93202e5da9ab ba02159...   \n",
       "\n",
       "                                                  tokens  docLength  \n",
       "3351   [a0c020166d79, 133d46f7ed38, fe64d3cdfe5b, 36e...        675  \n",
       "38868  [d9ef68daef4c, 04503bc22789, afb1e3806fc1, e7e...        275  \n",
       "21988  [5e99d31d8fa4, b99d622bf8e3, ecb0dd7353a4, 816...        110  \n",
       "57907  [3572a5c01503, 21ab107e9310, a1fde4983c10, 8ba...        251  \n",
       "49746  [33a62c972b6f, c4f716054f25, 93202e5da9ab, ba0...        368  "
      ]
     },
     "execution_count": 19,
     "metadata": {},
     "output_type": "execute_result"
    }
   ],
   "source": [
    "randomState = np.random.RandomState(11)\n",
    "\n",
    "dfTr, dfTe = train_test_split(df, test_size=0.5, shuffle=True,\n",
    "                              random_state=randomState, stratify=df.category)\n",
    "dfTr.shape, dfTe.shape\n",
    "dfTr.head()\n",
    "dfTe.head()"
   ]
  },
  {
   "cell_type": "markdown",
   "metadata": {},
   "source": [
    "### Create list of lists of word indices, and TensorFlow sentence tokenizer object\n",
    "\n",
    "Use strings from `dfTrain` to create vocabulary indices.\n",
    "\n",
    "See [helper function `tokenize()`](#helper-tokenize)\n",
    "\n",
    "* Each token is 12 characters long, so minimum string length is 6 &times; 12 + 5 (spaces) = 77\n",
    "\n",
    "Next step takes ~10 s."
   ]
  },
  {
   "cell_type": "code",
   "execution_count": 20,
   "metadata": {
    "ExecuteTime": {
     "end_time": "2021-01-26T17:08:44.657753Z",
     "start_time": "2021-01-26T17:08:35.179767Z"
    },
    "scrolled": false
   },
   "outputs": [
    {
     "data": {
      "text/plain": [
       "77"
      ]
     },
     "execution_count": 20,
     "metadata": {},
     "output_type": "execute_result"
    }
   ],
   "source": [
    "df.docText.str.len().min()\n",
    "ListOfDocsTr = list(dfTr.docText)\n",
    "listOfListsOfWordIndicesTr, tokenizer = tokenize(ListOfDocsTr, maxVocabCt)"
   ]
  },
  {
   "cell_type": "markdown",
   "metadata": {},
   "source": [
    "### Compute weights for each class\n",
    "\n",
    "#### `dfTr` category breakdowns\n",
    "\n",
    "* categoriesBySupport are category names ordered by support in `dfTr`"
   ]
  },
  {
   "cell_type": "code",
   "execution_count": 21,
   "metadata": {
    "ExecuteTime": {
     "end_time": "2021-01-26T17:08:44.696794Z",
     "start_time": "2021-01-26T17:08:44.659458Z"
    }
   },
   "outputs": [
    {
     "data": {
      "text/html": [
       "<div>\n",
       "<style scoped>\n",
       "    .dataframe tbody tr th:only-of-type {\n",
       "        vertical-align: middle;\n",
       "    }\n",
       "\n",
       "    .dataframe tbody tr th {\n",
       "        vertical-align: top;\n",
       "    }\n",
       "\n",
       "    .dataframe thead th {\n",
       "        text-align: right;\n",
       "    }\n",
       "</style>\n",
       "<table border=\"1\" class=\"dataframe\">\n",
       "  <thead>\n",
       "    <tr style=\"text-align: right;\">\n",
       "      <th></th>\n",
       "      <th>count</th>\n",
       "    </tr>\n",
       "    <tr>\n",
       "      <th>category</th>\n",
       "      <th></th>\n",
       "    </tr>\n",
       "  </thead>\n",
       "  <tbody>\n",
       "    <tr>\n",
       "      <th>APPLICATION</th>\n",
       "      <td>114</td>\n",
       "    </tr>\n",
       "    <tr>\n",
       "      <th>BILL</th>\n",
       "      <td>9475</td>\n",
       "    </tr>\n",
       "    <tr>\n",
       "      <th>BILL BINDER</th>\n",
       "      <td>144</td>\n",
       "    </tr>\n",
       "    <tr>\n",
       "      <th>BINDER</th>\n",
       "      <td>4469</td>\n",
       "    </tr>\n",
       "    <tr>\n",
       "      <th>CANCELLATION NOTICE</th>\n",
       "      <td>4864</td>\n",
       "    </tr>\n",
       "    <tr>\n",
       "      <th>CHANGE ENDORSEMENT</th>\n",
       "      <td>445</td>\n",
       "    </tr>\n",
       "    <tr>\n",
       "      <th>DECLARATION</th>\n",
       "      <td>483</td>\n",
       "    </tr>\n",
       "    <tr>\n",
       "      <th>DELETION OF INTEREST</th>\n",
       "      <td>2413</td>\n",
       "    </tr>\n",
       "    <tr>\n",
       "      <th>EXPIRATION NOTICE</th>\n",
       "      <td>367</td>\n",
       "    </tr>\n",
       "    <tr>\n",
       "      <th>INTENT TO CANCEL NOTICE</th>\n",
       "      <td>114</td>\n",
       "    </tr>\n",
       "    <tr>\n",
       "      <th>NON-RENEWAL NOTICE</th>\n",
       "      <td>312</td>\n",
       "    </tr>\n",
       "    <tr>\n",
       "      <th>POLICY CHANGE</th>\n",
       "      <td>5297</td>\n",
       "    </tr>\n",
       "    <tr>\n",
       "      <th>REINSTATEMENT NOTICE</th>\n",
       "      <td>2184</td>\n",
       "    </tr>\n",
       "    <tr>\n",
       "      <th>RETURNED CHECK</th>\n",
       "      <td>375</td>\n",
       "    </tr>\n",
       "  </tbody>\n",
       "</table>\n",
       "</div>"
      ],
      "text/plain": [
       "                         count\n",
       "category                      \n",
       "APPLICATION                114\n",
       "BILL                      9475\n",
       "BILL BINDER                144\n",
       "BINDER                    4469\n",
       "CANCELLATION NOTICE       4864\n",
       "CHANGE ENDORSEMENT         445\n",
       "DECLARATION                483\n",
       "DELETION OF INTEREST      2413\n",
       "EXPIRATION NOTICE          367\n",
       "INTENT TO CANCEL NOTICE    114\n",
       "NON-RENEWAL NOTICE         312\n",
       "POLICY CHANGE             5297\n",
       "REINSTATEMENT NOTICE      2184\n",
       "RETURNED CHECK             375"
      ]
     },
     "execution_count": 21,
     "metadata": {},
     "output_type": "execute_result"
    },
    {
     "data": {
      "text/html": [
       "<div>\n",
       "<style scoped>\n",
       "    .dataframe tbody tr th:only-of-type {\n",
       "        vertical-align: middle;\n",
       "    }\n",
       "\n",
       "    .dataframe tbody tr th {\n",
       "        vertical-align: top;\n",
       "    }\n",
       "\n",
       "    .dataframe thead th {\n",
       "        text-align: right;\n",
       "    }\n",
       "</style>\n",
       "<table border=\"1\" class=\"dataframe\">\n",
       "  <thead>\n",
       "    <tr style=\"text-align: right;\">\n",
       "      <th></th>\n",
       "      <th>count</th>\n",
       "    </tr>\n",
       "    <tr>\n",
       "      <th>category</th>\n",
       "      <th></th>\n",
       "    </tr>\n",
       "  </thead>\n",
       "  <tbody>\n",
       "    <tr>\n",
       "      <th>BILL</th>\n",
       "      <td>9475</td>\n",
       "    </tr>\n",
       "    <tr>\n",
       "      <th>POLICY CHANGE</th>\n",
       "      <td>5297</td>\n",
       "    </tr>\n",
       "    <tr>\n",
       "      <th>CANCELLATION NOTICE</th>\n",
       "      <td>4864</td>\n",
       "    </tr>\n",
       "    <tr>\n",
       "      <th>BINDER</th>\n",
       "      <td>4469</td>\n",
       "    </tr>\n",
       "    <tr>\n",
       "      <th>DELETION OF INTEREST</th>\n",
       "      <td>2413</td>\n",
       "    </tr>\n",
       "    <tr>\n",
       "      <th>REINSTATEMENT NOTICE</th>\n",
       "      <td>2184</td>\n",
       "    </tr>\n",
       "    <tr>\n",
       "      <th>DECLARATION</th>\n",
       "      <td>483</td>\n",
       "    </tr>\n",
       "    <tr>\n",
       "      <th>CHANGE ENDORSEMENT</th>\n",
       "      <td>445</td>\n",
       "    </tr>\n",
       "    <tr>\n",
       "      <th>RETURNED CHECK</th>\n",
       "      <td>375</td>\n",
       "    </tr>\n",
       "    <tr>\n",
       "      <th>EXPIRATION NOTICE</th>\n",
       "      <td>367</td>\n",
       "    </tr>\n",
       "    <tr>\n",
       "      <th>NON-RENEWAL NOTICE</th>\n",
       "      <td>312</td>\n",
       "    </tr>\n",
       "    <tr>\n",
       "      <th>BILL BINDER</th>\n",
       "      <td>144</td>\n",
       "    </tr>\n",
       "    <tr>\n",
       "      <th>APPLICATION</th>\n",
       "      <td>114</td>\n",
       "    </tr>\n",
       "    <tr>\n",
       "      <th>INTENT TO CANCEL NOTICE</th>\n",
       "      <td>114</td>\n",
       "    </tr>\n",
       "  </tbody>\n",
       "</table>\n",
       "</div>"
      ],
      "text/plain": [
       "                         count\n",
       "category                      \n",
       "BILL                      9475\n",
       "POLICY CHANGE             5297\n",
       "CANCELLATION NOTICE       4864\n",
       "BINDER                    4469\n",
       "DELETION OF INTEREST      2413\n",
       "REINSTATEMENT NOTICE      2184\n",
       "DECLARATION                483\n",
       "CHANGE ENDORSEMENT         445\n",
       "RETURNED CHECK             375\n",
       "EXPIRATION NOTICE          367\n",
       "NON-RENEWAL NOTICE         312\n",
       "BILL BINDER                144\n",
       "APPLICATION                114\n",
       "INTENT TO CANCEL NOTICE    114"
      ]
     },
     "execution_count": 21,
     "metadata": {},
     "output_type": "execute_result"
    },
    {
     "data": {
      "text/plain": [
       "['BILL',\n",
       " 'POLICY CHANGE',\n",
       " 'CANCELLATION NOTICE',\n",
       " 'BINDER',\n",
       " 'DELETION OF INTEREST',\n",
       " 'REINSTATEMENT NOTICE',\n",
       " 'DECLARATION',\n",
       " 'CHANGE ENDORSEMENT',\n",
       " 'RETURNED CHECK',\n",
       " 'EXPIRATION NOTICE',\n",
       " 'NON-RENEWAL NOTICE',\n",
       " 'BILL BINDER',\n",
       " 'APPLICATION',\n",
       " 'INTENT TO CANCEL NOTICE']"
      ]
     },
     "execution_count": 21,
     "metadata": {},
     "output_type": "execute_result"
    }
   ],
   "source": [
    "categoryCts = dfTr[['category', 'docLength']].groupby(by='category').count()\\\n",
    "    .rename(columns={'docLength': 'count'})\n",
    "categoryCts\n",
    "\n",
    "categoryCts.sort_values(by='count', ascending=False)\n",
    "categoriesBySupport = list(categoryCts.sort_values(by='count', ascending=False).index)\n",
    "categoriesBySupport"
   ]
  },
  {
   "cell_type": "markdown",
   "metadata": {},
   "source": [
    "#### Extract training and test labels"
   ]
  },
  {
   "cell_type": "code",
   "execution_count": 22,
   "metadata": {
    "ExecuteTime": {
     "end_time": "2021-01-26T17:08:44.743147Z",
     "start_time": "2021-01-26T17:08:44.697999Z"
    }
   },
   "outputs": [
    {
     "data": {
      "text/plain": [
       "30571    8\n",
       "59800    0\n",
       "46960    1\n",
       "3576     3\n",
       "4376     0\n",
       "Name: category, dtype: int64"
      ]
     },
     "execution_count": 22,
     "metadata": {},
     "output_type": "execute_result"
    },
    {
     "data": {
      "text/plain": [
       "50767    10\n",
       "57781     5\n",
       "58144     3\n",
       "1313      0\n",
       "16969     5\n",
       "Name: category, dtype: int64"
      ]
     },
     "execution_count": 22,
     "metadata": {},
     "output_type": "execute_result"
    }
   ],
   "source": [
    "categoryInds = {c: i for c, i in zip(categoriesBySupport, range(len(categories)))}\n",
    "\n",
    "yTr = dfTr.category.apply(lambda c: categoryInds[c])\n",
    "yTe = dfTe.category.apply(lambda c: categoryInds[c])\n",
    "yTr.head()\n",
    "yTr.tail()"
   ]
  },
  {
   "cell_type": "markdown",
   "metadata": {},
   "source": [
    "#### Determine class weights"
   ]
  },
  {
   "cell_type": "code",
   "execution_count": 23,
   "metadata": {
    "ExecuteTime": {
     "end_time": "2021-01-26T17:08:44.772743Z",
     "start_time": "2021-01-26T17:08:44.744357Z"
    }
   },
   "outputs": [
    {
     "name": "stdout",
     "output_type": "stream",
     "text": [
      "[ 0.23411986  0.41878152  0.45606203  0.49637183  0.91930614  1.01569859\n",
      "  4.59272405  4.98491172  5.91542857  6.04437524  7.10989011 15.4047619\n",
      " 19.45864662 19.45864662]\n",
      "classWeights:\n",
      " {0: 0.2341198643045609, 1: 0.41878152053723133, 2: 0.456062030075188, 3: 0.4963718313460985, 4: 0.9193061393641584, 5: 1.0156985871271587, 6: 4.592724046140195, 7: 4.984911717495987, 8: 5.9154285714285715, 9: 6.044375243285325, 10: 7.1098901098901095, 11: 15.404761904761905, 12: 19.458646616541355, 13: 19.458646616541355}\n"
     ]
    }
   ],
   "source": [
    "weights = class_weight.compute_class_weight('balanced',\n",
    "                                            range(len(categories)),\n",
    "                                            yTr)\n",
    "print(weights)\n",
    "classWeights = {i: weights[i] for i in range(len(categories))}\n",
    "print(\"classWeights:\\n\", classWeights)"
   ]
  },
  {
   "cell_type": "markdown",
   "metadata": {},
   "source": [
    "## LSTM Models\n",
    "\n",
    "<!-- #### `f1_scorer`: grid search optimize for $f_1$ *f*<sub>1</sub> -->"
   ]
  },
  {
   "cell_type": "code",
   "execution_count": 24,
   "metadata": {
    "ExecuteTime": {
     "end_time": "2021-01-26T17:08:44.800315Z",
     "start_time": "2021-01-26T17:08:44.773895Z"
    }
   },
   "outputs": [],
   "source": [
    "# f1_scorer = make_scorer(f1_score, average='weighted')"
   ]
  },
  {
   "cell_type": "markdown",
   "metadata": {},
   "source": [
    "<a id=\"define-model0\"></a>\n",
    "### Define model0\n",
    "\n",
    "* embedding layer\n",
    "* bidirectional LSTM\n",
    "* dense layer (relu)\n",
    "* dense layer (relu)\n",
    "* classifier dense layer (softmax)"
   ]
  },
  {
   "cell_type": "code",
   "execution_count": 25,
   "metadata": {
    "ExecuteTime": {
     "end_time": "2021-01-26T17:08:44.831413Z",
     "start_time": "2021-01-26T17:08:44.801686Z"
    }
   },
   "outputs": [],
   "source": [
    "def model0(sequenceLength, vocabSz, classCt, LSTMinternalLayerSz,\n",
    "           embedLayerDim, densLayerDim=64, softMaxCt=16, dropoutFrac=0.15,\n",
    "           LSTMdropoutFrac=0.40):\n",
    "\n",
    "    \"\"\"\n",
    "    INPUTS:\n",
    "    sequenceLength\t\t\tint, number of LSTM units\n",
    "    vocabSz\t\t\t\t\tint, size of vocabulary\n",
    "    LSTMinternalLayerSz\t\tint, size of layers within LSTM units\n",
    "    embedLayerDim\t\t\tint, dimension of embedding layer\n",
    "    densLayerDim\t\t\tint, dimension of dense layers, default: 64\n",
    "    softMaxCt\t\t\t\tint, dimension of softmax output, default: 16\n",
    "    dropoutFrac\t\t\t\tint, dropout rate, default: 0.15\n",
    "    LSTMdropoutFrac\t\t\tint, dropout rate for LSTMs, default: 0.40\n",
    "    \"\"\"\n",
    "\n",
    "    # Headline input: meant to receive sequences of *sequenceLength* integers, between 1 and *vocabSz*.\n",
    "    # Note that we can name any layer by passing it a \"name\" argument.\n",
    "    mainInput = Input(shape=(sequenceLength,), dtype='int32', name='MainInput')\n",
    "\n",
    "    # This embedding layer will encode the input sequence\n",
    "    # into a sequence of dense 64-dimensional vectors.\n",
    "    x = Embedding(input_length=sequenceLength, input_dim=vocabSz,\n",
    "                  output_dim=embedLayerDim, trainable=True, name=\"EmbedLayer\")(mainInput)\n",
    "\n",
    "    # A LSTM will transform the vector sequence into a single vector,\n",
    "    # containing information about the entire sequence\n",
    "    LSTMout0 = Bidirectional(LSTM(LSTMinternalLayerSz,\n",
    "                                  dropout=dropoutFrac,\n",
    "                                  recurrent_dropout=LSTMdropoutFrac,\n",
    "    #                             return_sequences=True),\t\t# True, if followed by another LSTM layer\n",
    "                                  return_sequences=False),\t\t# False if followed by dense layer\n",
    "                                  name='BidrectionalLSTM')(x)\n",
    "    # LSTMout1 = LSTM(LSTMinternalLayerSz,\n",
    "    #                 dropout=dropoutFrac,\n",
    "    #                 recurrent_dropout=LSTMdropoutFrac)(LSTMout0)\n",
    "\n",
    "    # auxiliaryInput = Input(shape=(auxFeatureCount,), name='numericalInput')\n",
    "    # x = concatenate([LSTMout1, auxiliaryInput])\n",
    "\n",
    "    # We stack a deep densely-connected network on top\n",
    "    # x = Dense(densLayerDim, activation='relu')(x)\n",
    "    x = Dense(densLayerDim, activation='relu', name='Dense0')(LSTMout0)\n",
    "    x = Dense(densLayerDim, activation='relu', name='Dense1')(x)\n",
    "\n",
    "    # And finally we add the main logistic regression layer\n",
    "    mainOutput = Dense(classCt, activation='softmax', name='MainOutput')(x)\n",
    "    # model = Model(inputs=[main_input, auxiliaryInput], outputs=mainOutput)\n",
    "    model = Model(inputs=mainInput, outputs=mainOutput)\n",
    "\n",
    "    return model"
   ]
  },
  {
   "cell_type": "markdown",
   "metadata": {},
   "source": [
    "<a id=\"tokenize-64-tokens\"></a>\n",
    "### LSTM 0 & LSTM 1 tokenize\n",
    "\n",
    "* truncate docs to `maxDocWords = 64` tokens\n",
    "* pre-pad shorter docs with 0s\n",
    "\n",
    "##### Tensor of word indices for train"
   ]
  },
  {
   "cell_type": "code",
   "execution_count": 26,
   "metadata": {
    "ExecuteTime": {
     "end_time": "2021-01-26T17:08:45.083374Z",
     "start_time": "2021-01-26T17:08:44.832765Z"
    }
   },
   "outputs": [],
   "source": [
    "padValue = 0\n",
    "maxDocWords = 64\n",
    "\n",
    "XdocsTr = pad_sequences(listOfListsOfWordIndicesTr,\n",
    "                        maxlen=maxDocWords,\n",
    "                        dtype='int32', padding='pre',\n",
    "                        truncating='post', value=padValue)"
   ]
  },
  {
   "cell_type": "code",
   "execution_count": 27,
   "metadata": {
    "ExecuteTime": {
     "end_time": "2021-01-26T17:08:45.111401Z",
     "start_time": "2021-01-26T17:08:45.084712Z"
    },
    "scrolled": false
   },
   "outputs": [
    {
     "data": {
      "text/plain": [
       "'776d8e8eda28 9d9120c02975 ce015f48ae93 52152b0093a1 5cf416836ddd 21d06acb5c5a 82c32a96c28a fc25f79e6d18 4ef731a80c24 758684f862e4 688c4bbfca80 9e2b31af60e1 c29f0593f229 9c58ed44374f 635ad16e1001 6e2c9c88b447 6ce6cc5a3203 c85b3821556b 89aed7fbfb0e 2e85d01c5d75 e7f10ad56136 2053a6a9efee fb1a3ce496b1 26f768da5068 0a8965c4b8f4 6af770640118 11610fcf8c49 f2b0e028fe2c 72bd4a50cf4a 54709b24b45f 823c39d495d0 6af770640118 6b304aabdcee 335e39009eab cf8a124d4e59 cb7631b88e51 304a68728141 97b6014f9e50 26f768da5068 6af770640118 e137a75c0b90 d5f4611022c1 46c88d9303da d63be9e66da8 4d134e3d5af5 f95d0bea231b 6ce6cc5a3203 6365c4563bd1 6df520735456 6365c4563bd1 6e34c0d3d1aa 6365c4563bd1 46c88d9303da 6365c4563bd1 6365c4563bd1 ff8452befa25 3593bd452331 81dc2e5c1272 d78dc767a475 3689f1b1fc46 ccef80e38b2b f6f466726339 39d83a0aee75 ab399ebcc0fe b9925442c9c9 07b4174549d4 395a5e8185f8 bc5e0615b2da 32f49d072772 53d94d11f6bb 8565203321d4 93977e7acdcf 93790ade6682 eb51798a89e1 9bc65adc033c 97b6014f9e50 26f768da5068 6af770640118 26f768da5068 2f4df94462b1 9b0aed8ecc9b 0562c756a2f2 171b6007c654 a09e0a748699 e74eeae12f6e 30c79c11dc92 27b6aa657c55 6b304aabdcee da7fd05dcb61 361a2a81099b 337d041d0c6b 2e85d01c5d75 dec250bd255f 7036aba96094 fe3fe35491b4 585bf09aeef4 6aa8ebf66a48 419e20a91dd7 3e57e4394be1 e97e3542aa30 d63be9e66da8 776d8e8eda28 b77eb1638cf6 fcd4c902418d cc8f6e942cc5 40d35d8cd299 cbb823f2cf77 e137a75c0b90 de9738ee8b24 a5f8a7c9a886 48e3af069d42 6ad08fc8a2b9 36e7aa72ffe1 431392fb12c7 14eb1c1f5593 25c57acdf805 2ee1e0de2738 48e3af069d42 b208ae1e8232 afb1e3806fc1 de9738ee8b24 0bf8e897de92 938716d2426b b2c878a75d7e 6b304aabdcee 54709b24b45f 88f56f24770a b208ae1e8232 938716d2426b 8de2b0005f84 34c0c4cb1ea8 8f75273e5510 7ec02e30a5b3 cc8f6e942cc5 90712fb22dd3 3f01e13a9232 4ad52689d690 c79b01c5629d 1b6d0614f2c7 da8d83a0384e 612cc551a793 246ee0c4577b 855918d5247f ba8f19d976a8 de9738ee8b24 d31aba826985 e137a75c0b90 cc8f6e942cc5 2e85d01c5d75 7cb3cef4cd09 6b304aabdcee 46c88d9303da 4e1c6ea5d356 f95d0bea231b 21e314d3afcc 0665b8da9006 6ef2ade170d9 98c9498f85a3 531051b4f10a 0562c756a2f2 e94953618947 1b6d0614f2c7 19e9f3592995 6dcc75eaf823 f9b20c280980 1b6d0614f2c7 9b88c973ae02 93790ade6682 a65259ff0092 4357c81e10c1 3f01e13a9232 a31962fbd5f3 d19b1c129f40 1015893e384a 9bc65adc033c 6bff0c8c1185 5e99d31d8fa4 6365c4563bd1 029cb2739016 d8afd84c6fa9 9bc65adc033c 8a3fc46e34c1 0c4ce226d9fe 0562c756a2f2 e94953618947 1b6d0614f2c7 6d25574664d2 2d00e7e4d33f 910172488f9b 9cdf4a63deb0 cc8f6e942cc5 b59e343416f7 ce1f034abb5d 151f774f96c8 24a6f68f850f 88086c92524c 029cb2739016 d8afd84c6fa9 e8f6c4cf2121 4ad52689d690 c79b01c5629d c337a85b8ef9 996962a673ac b814d9d78802 24b77b696b7c 586242498a88 296e1c47e3cc 5948001254b3 24a6f68f850f bf00471af78e d8afd84c6fa9 37ac79620fc6 97b6014f9e50 35047bad535e 4ad52689d690 c79b01c5629d c337a85b8ef9 08f6bcdf1be7 97b6014f9e50 98d0d51b397c b1a645fc722a 036087ac04f9 b2c1fd62c2ac ea911f8deb6a 73e4aef1d1ff b136f6349cf3 a04190dc9cfb 91524691d753 48d657cd9861 52102c70348d 6bf9c0cb01b4 c337a85b8ef9 53112cd46a0c 50fb73a2ef8b 3d9918dada34 0562c756a2f2 f733c1875bec 4578840165d7 dae7240f1874 9bc65adc033c 9bc65adc033c bf6ea159fc60 9bc65adc033c d3d3e81ac22c 6af770640118 1fa118579b22 4e661e6e88c4 98d0d51b397c 5b040684b216 5575f5d1c142 25ef09450447 97b6014f9e50 7b747dd806a6 4ad52689d690 c79b01c5629d 14eb1c1f5593 f6f466726339 b814d9d78802 97b6014f9e50 11a1a79112b6 586242498a88 da8d83a0384e e43c4b6f2c61 5b040684b216 7c1424e39612 9cdf4a63deb0 be9f9e5522c9 97b6014f9e50 41e8252e666a 29cdb7ffc4cb be9f9e5522c9 29cdb7ffc4cb 1b6d0614f2c7 0562c756a2f2 3486e5fe0d73 1b6d0614f2c7 0562c756a2f2 e94953618947 ed1e3242ee34 395a5e8185f8 e137a75c0b90 6ce6cc5a3203 bc6d172d7599 376aa3d8142d 5ee06767bc0f b78315892b66 7d41ca882f26 564aaf0c408b c60ca185e8e5 b9925442c9c9 0c4ce226d9fe fe3fe35491b4 5e8453ac3bc1 e7f10ad56136 0c4ce226d9fe 97b6014f9e50 ef237222adfc 1450168c4ac2 a2aff7e5a60b 22b937b93ed2 9bc65adc033c f6f466726339 5948001254b3 26f768da5068 6af770640118 aa1ef5f5355f 26f768da5068 6af770640118 1015893e384a 5948001254b3 e137a75c0b90 b9699ce57810 05882d1aa471 fee490da6850 86f0841bdf32 395a5e8185f8 07b4174549d4 b9925442c9c9 26f768da5068 0b2b39126feb a14a0d3e9e2b 4578840165d7 4e5019f629a9'"
      ]
     },
     "execution_count": 27,
     "metadata": {},
     "output_type": "execute_result"
    },
    {
     "name": "stdout",
     "output_type": "stream",
     "text": [
      "[673, 8480, 1911, 1, 29094, 1, 33264, 157, 1395, 399, 6626, 33265, 1, 20636, 4438, 5594, 4, 214, 1327, 73, 204, 17094, 4687, 36, 1, 32, 1, 224, 182, 12, 42966, 32, 21, 10648, 1, 256, 1, 23, 36, 32, 407, 184, 52, 299, 33266, 17, 4, 49, 226, 49, 22415, 49, 52, 49, 49, 943, 1411, 29095, 648, 350, 1, 369, 79132, 726, 723, 568, 265, 4916, 1308, 1, 47871, 1, 44, 63, 33, 23, 36, 32, 36, 7511, 1, 19, 530, 753, 2829, 878, 5595, 21, 35843, 3240, 1170, 73, 153, 9140, 54, 935, 11657, 8722, 1, 2550, 299, 673, 1333, 1, 655, 17095, 5972, 407, 42, 130, 867, 1695, 53, 250, 380, 7, 175, 867, 27, 146, 42, 22416, 1, 3284, 21, 12, 5230, 27, 1, 8481, 1, 31, 177, 655, 42967, 1, 51, 218, 15, 1385, 402, 381, 1, 101, 42, 1, 407, 655, 73, 1, 21, 52, 1029, 17, 6, 326, 122, 577, 5654, 19, 232, 15, 183, 110, 233, 15, 90, 44, 188, 41, 1, 47, 100, 8, 33, 57, 38, 49, 5509, 225, 33, 136, 78, 19, 232, 15, 77, 142, 4500, 39, 655, 82, 34, 25942, 12698, 418, 5509, 225, 12229, 51, 218, 14, 901, 74, 54732, 2, 1199, 67, 12698, 79133, 225, 278, 23, 760, 51, 218, 14, 2102, 23, 40, 1, 10, 2396, 1, 2901, 22, 1, 6282, 48, 151, 16, 14, 11135, 23483, 1, 19, 2293, 10222, 3322, 33, 33, 1, 33, 1, 32, 4381, 42968, 40, 12230, 1555, 14013, 23, 12231, 51, 218, 380, 369, 74, 23, 15812, 2, 1385, 124, 12230, 1, 39, 197, 23, 1501, 79134, 197, 79134, 15, 19, 158, 15, 19, 232, 64, 265, 407, 4, 7400, 341, 55, 38939, 332, 105, 1, 723, 78, 54, 858, 204, 78, 23, 751, 379, 2056, 614, 33, 369, 67, 36, 32, 92, 36, 32, 8, 67, 407, 5, 2527, 774, 189, 265, 568, 723, 36, 63991, 2641, 10222, 43]\n"
     ]
    },
    {
     "data": {
      "text/plain": [
       "array([  673,  8480,  1911,     1, 29094,     1, 33264,   157,  1395,\n",
       "         399,  6626, 33265,     1, 20636,  4438,  5594,     4,   214,\n",
       "        1327,    73,   204, 17094,  4687,    36,     1,    32,     1,\n",
       "         224,   182,    12, 42966,    32,    21, 10648,     1,   256,\n",
       "           1,    23,    36,    32,   407,   184,    52,   299, 33266,\n",
       "          17,     4,    49,   226,    49, 22415,    49,    52,    49,\n",
       "          49,   943,  1411, 29095,   648,   350,     1,   369, 79132,\n",
       "         726], dtype=int32)"
      ]
     },
     "execution_count": 27,
     "metadata": {},
     "output_type": "execute_result"
    }
   ],
   "source": [
    "ListOfDocsTr[0]\n",
    "print(listOfListsOfWordIndicesTr[0])\n",
    "XdocsTr[0]"
   ]
  },
  {
   "cell_type": "markdown",
   "metadata": {},
   "source": [
    "##### Tensor of word indices for test"
   ]
  },
  {
   "cell_type": "code",
   "execution_count": 28,
   "metadata": {
    "ExecuteTime": {
     "end_time": "2021-01-26T17:08:48.378149Z",
     "start_time": "2021-01-26T17:08:45.112943Z"
    }
   },
   "outputs": [],
   "source": [
    "ListOfDocsTe = list(dfTe.docText)\n",
    "listOfListsOfWordIndicesTe = tokenizer.texts_to_sequences(ListOfDocsTe)\n",
    "XdocsTe = pad_sequences(listOfListsOfWordIndicesTe,\n",
    "                        maxlen=maxDocWords,\n",
    "                        dtype='int32', padding='pre',\n",
    "                        truncating='post', value=padValue)"
   ]
  },
  {
   "cell_type": "code",
   "execution_count": 29,
   "metadata": {
    "ExecuteTime": {
     "end_time": "2021-01-26T17:08:48.406282Z",
     "start_time": "2021-01-26T17:08:48.379473Z"
    },
    "scrolled": false
   },
   "outputs": [
    {
     "data": {
      "text/plain": [
       "'a0c020166d79 133d46f7ed38 fe64d3cdfe5b 36e7aa72ffe1 7a5e719bafba fafeb212675a ff1c26ea0b6f 93c988b67c47 0562c756a2f2 07e7fe209a3b ff714b9fa7fd fe64d3cdfe5b c9a53ea6e219 993ff2804aa9 cbd6e2e7a804 e4c167e314c2 1851758c92b2 e259a56993f4 e94953618947 c79b01c5629d 6ce6cc5a3203 094e2de7e1cd 4ba791167817 9bfc4c4973a6 82204d3e715e 5dc7c49eb85d 2ed97f462806 a51c4e06df28 db3176de6e95 21e314d3afcc 2ee5e18ba524 586242498a88 360e8b28421c df7b799d2534 4a68a8674193 0f88ca127938 9a1d3ab82b96 1e5c095af1d7 71144e880c8d 7d9e333a86da ab876af5ae0b faaa1c06b512 21e314d3afcc e6dbab0cbfb4 5892ad716bb7 d493c688fb66 4ffb12504ac6 e9b0e655984e 347a5d991fe1 0a9b859f7b89 9e851f85cce7 4895c4bdb608 1015893e384a 8f7a92cd0ae7 21e314d3afcc 40fbee1e4d5c 1068682ce752 415fc0f6a895 586242498a88 ac6bf0e47705 21e314d3afcc 09b305bd6c36 664aa24ff74f 427028e08976 11269ab19093 21e314d3afcc becb9d433d2c 327f094890d6 1669ab06727a a263b63bc282 97b6014f9e50 b01c6237ae4a a9ee836e8303 e259a56993f4 ba8f19d976a8 133d46f7ed38 0c4ce226d9fe fafeb212675a 801b08c3d068 4da367bc25f2 01ea6ee691f1 033616ad6870 6b343f522f78 e259a56993f4 133d46f7ed38 6d10c76d455a d5f4611022c1 5c960d5545d5 71144e880c8d 15c054097bd7 78d75bbfc588 306fe91e0f51 21e314d3afcc c79b01c5629d 2eaf68452831 c516d482a714 0cdd77ab20cb 5a6bf6f65902 f36858486ddc 306fe91e0f51 2a83e6cadb41 42e393bc7d8e 360b8b601c24 6b343f522f78 05fcc9cb9bbd 92335da34e06 678da48e14ac c33578d25a0d e1f00b14b1c5 570c70267347 8b6c5bb157a9 333d9f0804b2 df7b799d2534 0f88ca127938 9bfc4c4973a6 5dc7c49eb85d 6ce6cc5a3203 d38820625542 7cd2e94152fb ba755d12d518 20a84e403407 97b6014f9e50 da9ad7407226 fafeb212675a 133d46f7ed38 aa36bd998336 0562c756a2f2 179dce4734b4 2e85d01c5d75 f36858486ddc d38820625542 3cbc35931f90 6ef2ade170d9 7cd2e94152fb 7a5e719bafba ff1c26ea0b6f e4c167e314c2 4a413407918e 2f7e3fc3a592 1c303d15eb65 2b282b961894 93c988b67c47 a1e5904d04f5 d38820625542 5fd3455b15ba 2ef7c27a5df4 32b093c4b3bd 094e2de7e1cd 0562c756a2f2 8eedff84f18d 21e314d3afcc c79b01c5629d 586242498a88 8ebb4fffd292 8f7a92cd0ae7 fafeb212675a 6bf9c0cb01b4 0562c756a2f2 0c4ce226d9fe 8f7a92cd0ae7 6f5b809e6812 0c4ce226d9fe 8f7a92cd0ae7 c337a85b8ef9 33e7224aad71 eca7e2e65d64 117d21c30549 8f09a81591d3 e943e5e5b779 ff8452befa25 234ffc9aff12 166f9e747275 cde4f1b2a877 30ca33997a38 d8bea9a1e58a 36e7aa72ffe1 fafeb212675a be9f9e5522c9 0969e9a2a900 9b88c973ae02 f9b20c280980 21e314d3afcc 12f51506aec4 12f51506aec4 29455ef44c25 557ec6c63cf9 5c960d5545d5 586242498a88 90769b70107f 1015893e384a fafeb212675a 586242498a88 46a0c35e916c 545abde86ce2 c20e4813029a b208ae1e8232 878460b4304e 0562c756a2f2 3486e5fe0d73 1b6d0614f2c7 1918bab7ef7f f86490d29db0 54115f01f96c 116bcb30c875 0910ed429a9b 4c8cf4c337f7 541565c9a894 e5ac5ba8b863 8ce006ac83cb 78bc58a31569 6af770640118 1ab34730c1e0 2f2548bd374a e9e1ca486e15 3593bd452331 1c6a1613ef91 b56c51feefe4 6af770640118 52102c70348d 8f7a92cd0ae7 c337a85b8ef9 f86490d29db0 8d6768212702 9bfc4c4973a6 2ce0277ae4e0 46c88d9303da 26eec2a96b52 f0666bdbc8a5 8b6c5bb157a9 a4c613bf5f08 a09b91c8b8cb f485c480ec19 cb33d55ed720 2b680ff6dcb6 6ca2dd348663 d38820625542 187a54a3edb6 9bc65adc033c 7d9e333a86da c648f075dc2d 0efaf9ea8493 54709b24b45f 311be8858444 0b838092c7eb 6b343f522f78 c00bef692a82 3826f8ea25bd 48d657cd9861 cc429363fb23 586242498a88 585bf09aeef4 e943e5e5b779 d38820625542 5c2db045bc17 45aefd85d242 8bc80b287c06 892d541c89eb 0562c756a2f2 4bea77438c27 21e314d3afcc 3eadb0787424 5ca8db3e75c0 36e7aa72ffe1 c43cfd0afc8a fafeb212675a c32b3a98ea32 094e2de7e1cd 6b343f522f78 0562c756a2f2 1d7716595ed3 fd85e6d105a5 2c624417f3e9 fafeb212675a cafaf222091d 915af354bead 6ce6cc5a3203 90769b70107f 8fc4ec925d63 e162da38a9d7 6ce6cc5a3203 f95d0bea231b 6f5b809e6812 90769b70107f 10e45001c2f2 e94cd66dcf0f e7f10ad56136 e94953618947 93e761938454 6bf9c0cb01b4 133d46f7ed38 6b638d98f023 abc4f93f36fe 9c1dca1863f8 a9ac785c4577 0f991de8cd9e c99bb13b5e17 126cb0dd4422 2ee5e18ba524 3247fdb47a07 cf9dac8db80a b947bdd4099b 622cf0c2631c 3950e84b9532 35f1197d1335 a9ee836e8303 0562c756a2f2 b4c4f940f774 fe64d3cdfe5b a9ee836e8303 63a4795b394a 8ba5b1c96b22 aa37a20f17ba 996962a673ac ec9b601f762c b7ab56536ec4 a9ac785c4577 8bcca26048c3 56c2c356d772 4ffb12504ac6 93aa87655959 f7ae6f8257da a5f8a7c9a886 586242498a88 95ef80a0b841 d38820625542 6fd647aa15b8 fe3fe35491b4 133d46f7ed38 fe3fe35491b4 09b305bd6c36 ce00eff819b7 427028e08976 ce00eff819b7 2e85d01c5d75 f36858486ddc 333d9f0804b2 22457fc4da9f 171eb5bce96d 384c49e81b71 09b305bd6c36 6e232bbaf357 427028e08976 f00cd97e9262 1fe62f2b2bff 871946868b71 f36858486ddc 973dd1b7e8ac dec250bd255f f86cdea10d5f 2e770bf28dc4 769e648b85f2 6854529fec61 96d0e5fe11d4 2519927ae3fa 586242498a88 176954f15624 1c36e84c6157 c560e446d0bd 44e3189da745 1d7716595ed3 ec3406979928 570c70267347 754980538d32 68e0e784e732 73ef9fd67984 661ce0d1e6d2 a8aca8858cb9 6cf32e541eed eb51798a89e1 e4dad7cb07b6 034e2d7f187e 6d3eb69fcdd2 04503bc22789 6ce6cc5a3203 fe3fe35491b4 28bce73d3237 41d81c1f2c3d 570c70267347 68e0e784e732 0718e4e6e487 d38820625542 333d9f0804b2 678da48e14ac c33578d25a0d 193b0b1478e6 2b282b961894 4b6d2d8ebb27 2396ef1fa71b 7728eba9b0a7 b3c577f27b2d 46c88d9303da 544dcff02c62 6d1fb90988cf cde4f1b2a877 5fd3455b15ba ef70ce2a90b6 c61c248197a2 8f75273e5510 7c93e258c632 3826f8ea25bd 557ec6c63cf9 be9f9e5522c9 17bd1f49c9a0 1d33044946e0 12f51506aec4 0c4ce226d9fe 8f7a92cd0ae7 c337a85b8ef9 33e7224aad71 eca7e2e65d64 117d21c30549 8f09a81591d3 e943e5e5b779 c20e4813029a b208ae1e8232 b750c24ba27a 6bf9c0cb01b4 0562c756a2f2 f95d0bea231b d8afd84c6fa9 8f7a92cd0ae7 e504ee0aaf6d f9b20c280980 0562c756a2f2 3486e5fe0d73 1b6d0614f2c7 1015893e384a 586242498a88 46a0c35e916c 545abde86ce2 1ab34730c1e0 dc2e09eaa9eb f86490d29db0 3593bd452331 1c6a1613ef91 9a1cf63c4320 c66d804cb925 1918bab7ef7f 0e2d889d16cb 2519927ae3fa 8ce006ac83cb f86490d29db0 54115f01f96c 116bcb30c875 0910ed429a9b 4c8cf4c337f7 970ebb9727d4 8b6c5bb157a9 721e78cf016d d7b4f3b093bf 52102c70348d 8f7a92cd0ae7 c337a85b8ef9 f86490d29db0 8d6768212702 9bfc4c4973a6 2ce0277ae4e0 46c88d9303da 26eec2a96b52 17c4f9b0a9ca 848704d98905 df3545376d58 de54b7394e16 34f95f5aa57c cb33d55ed720 a031f53f7843 ba8f19d976a8 6ca2dd348663 d38820625542 79aa7fd11cec f95d0bea231b 21e314d3afcc 79aa7fd11cec a7576b7121c7 28bce73d3237 7d9e333a86da 360e8b28421c cb33d55ed720 8f75273e5510 133d46f7ed38 67f9c02008c6 d5d6c0f8f797 21e314d3afcc 3376596d044b 754980538d32 133d46f7ed38 7cd2e94152fb 5ca8db3e75c0 2c624417f3e9 6b343f522f78 311be8858444 8eedff84f18d 30ca33997a38 b2a5abb2ac3e 585bf09aeef4 586242498a88 1710b5ae112c 8b6c5bb157a9 333d9f0804b2 8dfa57b3e4d3 8b6c5bb157a9 333d9f0804b2 45d4dd9228d0 8b6c5bb157a9 e5c361720599 3144cd07319f 99e613bf119e f89a9406e6ff 03e69d94bf24 586242498a88 f80c16e67dfd c0ed51271129 0efaf9ea8493 ecd95809ad27 2cbc2b5e61bb f0fd45d01d0a 4ba2aa56be2a fe081ae57a8b bbfa3359c5be 95ef80a0b841 2ed97f462806 bf15989af17d fe081ae57a8b 7e3632031569 6d10c76d455a 63f9a98e70cd 95ef80a0b841 67f9c02008c6 776d8e8eda28 3605b070d5b4 d38820625542 b318c94ee3f0 60eb2e281af2 8b363e6fdb6a 2ed97f462806 82ef4725a8b4 7c94e2ddf113 cdb1c6241d8e 586242498a88 fe081ae57a8b a1bb6b4223d9 ac6bf0e47705 6ff44982f757 30ca33997a38 c0641460a42b 8eedff84f18d eb51798a89e1 4e350ec13f1b 0969e9a2a900 21e314d3afcc faaa1c06b512 21e314d3afcc 878460b4304e cb57af6a094e 21e314d3afcc 586242498a88 d5d6c0f8f797 21e314d3afcc 4eb37245db2f 10e45001c2f2 f95d0bea231b 63074fe20296 6099f4533cc2 9bc65adc033c 39d0f7ef5130 6172f16911ce df1f4dc82644 e4dad7cb07b6 ad4440ac97a5 0efaf9ea8493 ad4440ac97a5 586242498a88 9bc96abb24e5 6ce6cc5a3203 5ee06767bc0f f36858486ddc e9b0e655984e 63074fe20296 48d657cd9861 cf4fc632eed2 ab136850e47e 39d0f7ef5130 6ce6cc5a3203 f7ae6f8257da f8b0c07e306c 66eb3ab508a0 893ea6ad4c2d 0efaf9ea8493 f7ae6f8257da 586242498a88 5892ad716bb7 f52671c3d5de 347a5d991fe1 894af811cc5b f7ae6f8257da 09b305bd6c36 fe45da8fb1d7 a20e78c41cf9 612cc551a793 0efaf9ea8493 38ab8a760603 f1c059c13e18 ba0e6f9b2102 e4dad7cb07b6 b3321da48f0d 878460b4304e f7ae6f8257da 133d46f7ed38 586242498a88 63a4795b394a 8ba5b1c96b22 8eedff84f18d 0acc6b179021 ec9b601f762c 65df965d2089 9df5d35dfd29 f7ae6f8257da ec9b601f762c f7ae6f8257da 78d75bbfc588 b814d9d78802 a20e78c41cf9 87b8193a0183 9ccf259ca087 48d657cd9861 0323cfd6fc18 6ce6cc5a3203 586242498a88 e7f10ad56136 a6a1fd3bc1bb 6ce6cc5a3203 90769b70107f 8fc4ec925d63 d687c358019d 9c1dca1863f8 dcc9129902b1 d38820625542 0f991de8cd9e a0c020166d79 6bf9c0cb01b4 3144bb464cb2 f816f047c0db 695d4d655af1 0a3a5d0cf506 fc1955933b8e dec250bd255f 2c3d965bd8b2 4229bbd090ef c66d804cb925 360e8b28421c ccd002fe349c 049c869c44f8 8f15e086daf8 72714d7a7b12 0277a4c0475c 133d46f7ed38 9c1dca1863f8 f95d0bea231b 21e314d3afcc 0b86bd962526 30d9ffaf8d37 6ce6cc5a3203 6ef2ade170d9 da61efdd2b77 9a6abe0393e2 586242498a88 564aaf0c408b 133d46f7ed38 28bf05f7e3de 0c222c6660f2 56b504405f74 159bc0ef045f 133d46f7ed38 6ca2dd348663 d38820625542'"
      ]
     },
     "execution_count": 29,
     "metadata": {},
     "output_type": "execute_result"
    },
    {
     "name": "stdout",
     "output_type": "stream",
     "text": [
      "[71, 9, 118, 53, 209, 8795, 269, 171, 19, 808, 249, 118, 83, 1, 178, 2313, 1188, 135, 232, 218, 4, 1261, 301, 291, 1240, 3305, 372, 1, 1307, 6, 30555, 2, 97, 1037, 647, 286, 707, 4109, 465, 20, 1, 13429, 6, 1233, 366, 125, 128, 7828, 490, 1268, 2177, 7720, 8, 132, 6, 872, 29, 1574, 2, 825, 6, 549, 559, 231, 261, 6, 6289, 579, 244, 574, 23, 1104, 163, 135, 101, 9, 78, 8795, 174, 31526, 1093, 357, 30, 135, 9, 109, 184, 370, 465, 17995, 8790, 787, 6, 218, 1788, 1, 1759, 1991, 266, 787, 2179, 228, 2278, 30, 2201, 494, 2338, 86, 662, 816, 72, 922, 1037, 286, 291, 3305, 4, 3, 165, 1, 353, 23, 367, 8795, 9, 3690, 19, 283, 73, 266, 3, 3283, 122, 165, 209, 269, 2313, 1, 1, 119, 28820, 171, 180, 3, 4165, 80, 9855, 1261, 19, 688, 6, 218, 2, 412, 132, 8795, 16, 19, 78, 132, 871, 78, 132, 14, 1718, 6850, 18129, 208, 37, 943, 1, 4736, 195, 120, 464, 53, 8795, 197, 229, 90, 233, 6, 835, 835, 340, 56, 370, 2, 257, 8, 8795, 2, 149, 13929, 505, 27, 84, 19, 158, 15, 190, 457, 1431, 2378, 409, 743, 3321, 10692, 1339, 55411, 32, 58, 88, 321, 1411, 2088, 2214, 32, 151, 132, 14, 457, 306, 291, 397, 52, 861, 46, 72, 4141, 1, 450, 611, 3000, 13, 3, 43363, 33, 20, 460, 191, 12, 686, 1412, 30, 6776, 1, 48, 159, 2, 935, 37, 3, 322, 4140, 1050, 553, 19, 27732, 6, 3070, 1609, 53, 1154, 8795, 4583, 1261, 30, 19, 1779, 1182, 571, 8795, 60, 1, 4, 257, 160, 920, 4, 17, 871, 257, 25, 1493, 204, 232, 1797, 16, 9, 56250, 1132, 1201, 591, 585, 293, 12082, 30555, 2548, 1343, 1, 1, 1225, 37370, 163, 19, 865, 118, 163, 1914, 17924, 34149, 901, 1350, 103, 591, 1, 196, 128, 1088, 18, 130, 2, 277, 3, 210, 54, 9, 54, 549, 738, 231, 738, 73, 266, 922, 26412, 32856, 1, 549, 22210, 231, 3034, 211, 4081, 266, 1, 153, 1, 2078, 186, 4731, 1612, 518, 2, 89783, 2280, 23302, 51711, 1779, 167, 816, 148, 21730, 777, 1, 785, 28806, 63, 127, 327, 2224, 35, 4, 54, 93, 5166, 816, 21730, 24682, 3, 922, 2338, 86, 1, 28820, 3361, 2661, 4744, 469, 52, 1, 62, 195, 4165, 7711, 1, 31, 1230, 1, 56, 197, 273, 1723, 835, 78, 132, 14, 1718, 6850, 18129, 208, 37, 505, 27, 845, 16, 19, 17, 225, 132, 468, 233, 19, 158, 15, 8, 2, 149, 13929, 58, 13298, 457, 1411, 2088, 48190, 419, 190, 1, 518, 1339, 457, 1431, 2378, 409, 743, 896, 72, 1, 562, 151, 132, 14, 457, 306, 291, 397, 52, 861, 39740, 35374, 628, 2183, 1, 611, 1390, 101, 13, 3, 206, 17, 6, 206, 963, 93, 20, 97, 611, 31, 9, 176, 32534, 6, 24701, 148, 9, 165, 1609, 571, 30, 686, 688, 120, 814, 935, 2, 10904, 72, 922, 1934, 72, 922, 12870, 72, 1216, 2133, 152, 1219, 8356, 2, 1, 886, 191, 1637, 364, 239, 2076, 87, 18247, 277, 372, 486, 87, 538, 109, 1, 277, 176, 673, 1, 3, 7497, 793, 296, 372, 4426, 489, 3902, 2, 87, 240, 825, 30191, 120, 6002, 688, 63, 1659, 229, 6, 13429, 6, 84, 40097, 6, 2, 32534, 6, 164, 25, 17, 1807, 115, 33, 2382, 639, 307, 127, 243, 191, 243, 2, 279, 4, 55, 266, 7828, 1807, 48, 139, 1, 2382, 4, 18, 378, 860, 13902, 191, 18, 2, 366, 91, 490, 694, 18, 549, 2414, 212, 402, 191, 804, 6329, 979, 127, 594, 84, 18, 9, 2, 1914, 17924, 688, 7227, 1350, 3220, 1, 18, 1350, 18, 8790, 74, 212, 123, 289, 48, 3064, 4, 2, 204, 778, 4, 257, 160, 1, 1201, 1, 3, 585, 71, 16, 1, 536, 1, 1, 2228, 153, 1, 1, 419, 97, 949, 1, 1, 12370, 1, 9, 1201, 17, 6, 1, 1, 4, 122, 66, 400, 2, 105, 9, 42100, 313, 982, 1535, 9, 13, 3]\n"
     ]
    },
    {
     "data": {
      "text/plain": [
       "array([   71,     9,   118,    53,   209,  8795,   269,   171,    19,\n",
       "         808,   249,   118,    83,     1,   178,  2313,  1188,   135,\n",
       "         232,   218,     4,  1261,   301,   291,  1240,  3305,   372,\n",
       "           1,  1307,     6, 30555,     2,    97,  1037,   647,   286,\n",
       "         707,  4109,   465,    20,     1, 13429,     6,  1233,   366,\n",
       "         125,   128,  7828,   490,  1268,  2177,  7720,     8,   132,\n",
       "           6,   872,    29,  1574,     2,   825,     6,   549,   559,\n",
       "         231], dtype=int32)"
      ]
     },
     "execution_count": 29,
     "metadata": {},
     "output_type": "execute_result"
    }
   ],
   "source": [
    "ListOfDocsTe[0]\n",
    "print(listOfListsOfWordIndicesTe[0])\n",
    "XdocsTe[0]"
   ]
  },
  {
   "cell_type": "markdown",
   "metadata": {},
   "source": [
    "<a id=\"lstm0-parameters\"></a>\n",
    "### LSTM 0, baseline model parameters\n",
    "\n",
    "* Bidirectional(LSTM) only\n",
    "* `LSTMlayerUnits = 64`\n",
    "* `maxDocWords = 64`\n",
    "\n",
    "\n",
    "Settings are minimal, so that basic functioning of configuration can be tested relatively quickly.\n",
    "\n",
    "Refer to the [LSTM 0 & LSTM 1 tokenize](#tokenize-64-tokens) section for the size of `maxVocabCt`.\n",
    "\n",
    "|parameter|&nbsp;&nbsp;|description|\n",
    "|:--------|------------|:----------|\n",
    "|`testFrac`||fraction of data set withheld|\n",
    "|`LSTMlayerUnits`||# units within each activation unit in LSTMs|\n",
    "|`embeddingDim'||size of dimension for generated embeddings|\n",
    "|`auxFeaturesCt`||# of features in auxiliary data|\n",
    "|`classCt`||# classes (softmax output dim)|\n",
    "|`dropoutFrac`||dropout fraction|\n",
    "|`LSTMdropoutFrac`||dropout fraction within LSTMs|\n",
    "|`batchSz`||size of batches|\n",
    "|`epochCt`||number of epochs to run|"
   ]
  },
  {
   "cell_type": "code",
   "execution_count": 30,
   "metadata": {
    "ExecuteTime": {
     "end_time": "2021-01-26T17:08:48.431852Z",
     "start_time": "2021-01-26T17:08:48.407768Z"
    }
   },
   "outputs": [],
   "source": [
    "testFrac = 0.5\n",
    "LSTMlayerUnits = 64\n",
    "embeddingDim = 64\n",
    "classCt = len(categoriesBySupport)\n",
    "dropoutFrac = 0.15\n",
    "LSTMdropoutFrac = 0.5\n",
    "# LSTMdropoutFrac = 0\t\t\t# Must be 0 for use of cudnn\n",
    "batchSz = 64\n",
    "epochCt = 30"
   ]
  },
  {
   "cell_type": "markdown",
   "metadata": {},
   "source": [
    "#### LSTM 0 callbacks\n",
    "\n",
    "* checkpoints\n",
    "* TensorBoard\n",
    "* (no early stopping)"
   ]
  },
  {
   "cell_type": "code",
   "execution_count": 31,
   "metadata": {
    "ExecuteTime": {
     "end_time": "2021-01-26T17:08:48.748938Z",
     "start_time": "2021-01-26T17:08:48.433150Z"
    }
   },
   "outputs": [
    {
     "name": "stdout",
     "output_type": "stream",
     "text": [
      "vocabCt100000maxCommentLen064classCt14embedDim064LSTMlayerSz064batchSz064dropoutFrac0.15LSTMdropoutFrac0.15 \n",
      "\n",
      "/home/mark/work/document-classification-test/checkpoints/vocabCt100000maxCommentLen064classCt14embedDim064LSTMlayerSz064batchSz064dropoutFrac0.15LSTMdropoutFrac0.15/ckpt{epoch:03d} \n",
      "\n",
      "/home/mark/work/document-classification-test/tensorBoardLogs/vocabCt100000maxCommentLen064classCt14embedDim064LSTMlayerSz064batchSz064dropoutFrac0.15LSTMdropoutFrac0.15 \n",
      "\n"
     ]
    }
   ],
   "source": [
    "modelInstanceDir = (f\"vocabCt{maxVocabCt:06d}maxCommentLen{maxDocWords:03d}\"\n",
    "                    + f\"classCt{classCt:02d}\"\n",
    "                    + f\"embedDim{embeddingDim:03d}\"\n",
    "                    + f\"LSTMlayerSz{LSTMlayerUnits:03d}batchSz{batchSz:03d}\"\n",
    "                    + f\"dropoutFrac{dropoutFrac:4.2f}\"\n",
    "                    + f\"LSTMdropoutFrac{dropoutFrac:4.2f}\")\n",
    "print(modelInstanceDir, \"\\n\")\n",
    "\n",
    "checkpointPrefix = os.path.join(checkpointPath, modelInstanceDir,\n",
    "                                \"ckpt{epoch:03d}\")\n",
    "print(checkpointPrefix, \"\\n\")\n",
    "\n",
    "checkpointCallback=ModelCheckpoint(filepath=checkpointPrefix,\n",
    "                                   save_weights_only=True)\n",
    "os.makedirs(tensorBoardPath, exist_ok=True)                       \n",
    "\n",
    "logsDir = os.path.join(tensorBoardPath, modelInstanceDir)\n",
    "print(logsDir, \"\\n\")\n",
    "\n",
    "os.makedirs(logsDir, exist_ok=True)\n",
    "tensorboardCallback = TensorBoard(log_dir=logsDir, histogram_freq=1)"
   ]
  },
  {
   "cell_type": "markdown",
   "metadata": {},
   "source": [
    "#### Load or instantiate LSTM 0"
   ]
  },
  {
   "cell_type": "code",
   "execution_count": 32,
   "metadata": {
    "ExecuteTime": {
     "end_time": "2021-01-26T17:08:49.122284Z",
     "start_time": "2021-01-26T17:08:48.752065Z"
    }
   },
   "outputs": [
    {
     "name": "stdout",
     "output_type": "stream",
     "text": [
      "Tue Jan 26 17:08:48 2021\n",
      "Instantiate LSTM 0, using model0 ...\n",
      "WARNING:tensorflow:Layer lstm will not use cuDNN kernel since it doesn't meet the cuDNN kernel criteria. It will use generic GPU kernel as fallback when running on GPU\n",
      "WARNING:tensorflow:Layer lstm will not use cuDNN kernel since it doesn't meet the cuDNN kernel criteria. It will use generic GPU kernel as fallback when running on GPU\n",
      "WARNING:tensorflow:Layer lstm will not use cuDNN kernel since it doesn't meet the cuDNN kernel criteria. It will use generic GPU kernel as fallback when running on GPU\n",
      "Model: \"model\"\n",
      "_________________________________________________________________\n",
      "Layer (type)                 Output Shape              Param #   \n",
      "=================================================================\n",
      "MainInput (InputLayer)       [(None, 64)]              0         \n",
      "_________________________________________________________________\n",
      "EmbedLayer (Embedding)       (None, 64, 64)            6400000   \n",
      "_________________________________________________________________\n",
      "BidrectionalLSTM (Bidirectio (None, 128)               66048     \n",
      "_________________________________________________________________\n",
      "Dense0 (Dense)               (None, 64)                8256      \n",
      "_________________________________________________________________\n",
      "Dense1 (Dense)               (None, 64)                4160      \n",
      "_________________________________________________________________\n",
      "MainOutput (Dense)           (None, 14)                910       \n",
      "=================================================================\n",
      "Total params: 6,479,374\n",
      "Trainable params: 6,479,374\n",
      "Non-trainable params: 0\n",
      "_________________________________________________________________\n"
     ]
    }
   ],
   "source": [
    "print(asctime(gmtime()))\n",
    "LSTM0name = 'LSTM0'\n",
    "\n",
    "if (modelPath / LSTM0name).is_file():\n",
    "    print(f\"Loading {LSTM0name} model from disk.\")\n",
    "    LSTM0 = load(modelPath / LSTM0name)\n",
    "else:\n",
    "    np.random.seed(0)  # Set a random seed for reproducibility\n",
    "\n",
    "    print(\"Instantiate LSTM 0, using model0 ...\")\n",
    "    with device('/device:GPU:1'):\n",
    "        LSTM0 = model0(maxDocWords, maxVocabCt, classCt, LSTMlayerUnits,\n",
    "                       embeddingDim, softMaxCt=classCt)\n",
    "    LSTM0.summary()"
   ]
  },
  {
   "cell_type": "markdown",
   "metadata": {},
   "source": [
    "<a id=\"model0-graph\"></a>\n",
    "#### Model0 graph"
   ]
  },
  {
   "cell_type": "code",
   "execution_count": 33,
   "metadata": {
    "ExecuteTime": {
     "end_time": "2021-01-26T17:08:49.342953Z",
     "start_time": "2021-01-26T17:08:49.124034Z"
    }
   },
   "outputs": [
    {
     "data": {
      "image/png": "[encoded data removed]",
      "text/plain": [
       "<IPython.core.display.Image object>"
      ]
     },
     "execution_count": 33,
     "metadata": {},
     "output_type": "execute_result"
    }
   ],
   "source": [
    "plot_model(LSTM0, to_file=os.path.join(plotPath, 'model0graph.png'))"
   ]
  },
  {
   "cell_type": "markdown",
   "metadata": {},
   "source": [
    "#### Compile LSTM 0"
   ]
  },
  {
   "cell_type": "code",
   "execution_count": 34,
   "metadata": {
    "ExecuteTime": {
     "end_time": "2021-01-26T17:08:49.390135Z",
     "start_time": "2021-01-26T17:08:49.344875Z"
    }
   },
   "outputs": [],
   "source": [
    "if not (modelPath / LSTM0name).is_file():\n",
    "    with device('/device:GPU:1'):\n",
    "        LSTM0.compile(optimizer='rmsprop',\n",
    "                      loss='sparse_categorical_crossentropy',\n",
    "                      metrics = 'accuracy') \n",
    "                      # metrics = ['accuracy', Recall(), Precision(),\n",
    "                      #            F1Score(num_classes=classCt),\n",
    "                      #            SparseCategoricalCrossentropy(from_logits=False)])"
   ]
  },
  {
   "cell_type": "markdown",
   "metadata": {},
   "source": [
    "<a id=\"train-lstm0\"></a>\n",
    "#### Train LSTM 0"
   ]
  },
  {
   "cell_type": "code",
   "execution_count": null,
   "metadata": {
    "ExecuteTime": {
     "start_time": "2021-01-26T17:08:34.373Z"
    },
    "scrolled": false
   },
   "outputs": [
    {
     "name": "stdout",
     "output_type": "stream",
     "text": [
      "30 64\n",
      "{0: 0.2341198643045609, 1: 0.41878152053723133, 2: 0.456062030075188, 3: 0.4963718313460985, 4: 0.9193061393641584, 5: 1.0156985871271587, 6: 4.592724046140195, 7: 4.984911717495987, 8: 5.9154285714285715, 9: 6.044375243285325, 10: 7.1098901098901095, 11: 15.404761904761905, 12: 19.458646616541355, 13: 19.458646616541355}\n",
      "Epoch 1/30\n",
      "389/389 [==============================] - 126s 314ms/step - loss: 2.3205 - accuracy: 0.2927 - val_loss: 1.2411 - val_accuracy: 0.6505\n",
      "Epoch 2/30\n",
      "389/389 [==============================] - 119s 305ms/step - loss: 1.4515 - accuracy: 0.6025 - val_loss: 1.1367 - val_accuracy: 0.6568\n",
      "Epoch 3/30\n",
      "389/389 [==============================] - 118s 304ms/step - loss: 1.1238 - accuracy: 0.6765 - val_loss: 1.0741 - val_accuracy: 0.6718\n",
      "Epoch 4/30\n",
      "389/389 [==============================] - 118s 304ms/step - loss: 0.9952 - accuracy: 0.7053 - val_loss: 1.0621 - val_accuracy: 0.6853\n",
      "Epoch 5/30\n",
      "389/389 [==============================] - 118s 304ms/step - loss: 0.8443 - accuracy: 0.7278 - val_loss: 1.1008 - val_accuracy: 0.6665\n",
      "Epoch 6/30\n",
      "389/389 [==============================] - 117s 302ms/step - loss: 0.7426 - accuracy: 0.7475 - val_loss: 1.0726 - val_accuracy: 0.6904\n",
      "Epoch 7/30\n",
      "389/389 [==============================] - 118s 304ms/step - loss: 0.6649 - accuracy: 0.7712 - val_loss: 1.3401 - val_accuracy: 0.6375\n",
      "Epoch 8/30\n",
      "389/389 [==============================] - 118s 303ms/step - loss: 0.5934 - accuracy: 0.7849 - val_loss: 0.9877 - val_accuracy: 0.7118\n",
      "Epoch 9/30\n",
      "389/389 [==============================] - 118s 304ms/step - loss: 0.5132 - accuracy: 0.8055 - val_loss: 1.0783 - val_accuracy: 0.7035\n",
      "Epoch 10/30\n",
      "389/389 [==============================] - 118s 304ms/step - loss: 0.4683 - accuracy: 0.8192 - val_loss: 1.1100 - val_accuracy: 0.6771\n",
      "Epoch 11/30\n",
      "389/389 [==============================] - 118s 305ms/step - loss: 0.4340 - accuracy: 0.8391 - val_loss: 1.1777 - val_accuracy: 0.6875\n",
      "Epoch 12/30\n",
      "389/389 [==============================] - 118s 304ms/step - loss: 0.3513 - accuracy: 0.8523 - val_loss: 1.0121 - val_accuracy: 0.7138\n",
      "Epoch 13/30\n",
      "389/389 [==============================] - 118s 304ms/step - loss: 0.4049 - accuracy: 0.8529 - val_loss: 1.1396 - val_accuracy: 0.7104\n",
      "Epoch 14/30\n",
      "389/389 [==============================] - 118s 303ms/step - loss: 0.2859 - accuracy: 0.8752 - val_loss: 1.2234 - val_accuracy: 0.6743\n",
      "Epoch 15/30\n",
      "389/389 [==============================] - 116s 300ms/step - loss: 0.2611 - accuracy: 0.8845 - val_loss: 1.1343 - val_accuracy: 0.7199\n",
      "Epoch 16/30\n",
      "389/389 [==============================] - 117s 301ms/step - loss: 0.2512 - accuracy: 0.8953 - val_loss: 1.1803 - val_accuracy: 0.7226\n",
      "Epoch 17/30\n",
      "389/389 [==============================] - 117s 302ms/step - loss: 0.1999 - accuracy: 0.9121 - val_loss: 1.2762 - val_accuracy: 0.7001\n",
      "Epoch 18/30\n",
      "389/389 [==============================] - 118s 303ms/step - loss: 0.1879 - accuracy: 0.9187 - val_loss: 1.2247 - val_accuracy: 0.7201\n",
      "Epoch 19/30\n",
      "389/389 [==============================] - 118s 304ms/step - loss: 0.1654 - accuracy: 0.9288 - val_loss: 1.2508 - val_accuracy: 0.6929\n",
      "Epoch 20/30\n",
      "145/389 [==========>...................] - ETA: 1:12 - loss: 0.1672 - accuracy: 0.9283"
     ]
    }
   ],
   "source": [
    "if not (modelPath / LSTM0name).is_file():\n",
    "    print(epochCt, batchSz)\n",
    "    print(classWeights)\n",
    "    with device('/device:GPU:1'):\n",
    "        history0 = LSTM0.fit(x=XdocsTr,\n",
    "                             y= yTr.values,\n",
    "                             epochs=epochCt, batch_size=batchSz,\n",
    "                             shuffle=True,\n",
    "                             class_weight=classWeights,\n",
    "                             validation_split=0.2,\n",
    "                             callbacks=[checkpointCallback, tensorboardCallback],\n",
    "                             verbose=1)"
   ]
  },
  {
   "cell_type": "markdown",
   "metadata": {},
   "source": [
    "#### Save LSTM 0, if new model"
   ]
  },
  {
   "cell_type": "code",
   "execution_count": null,
   "metadata": {
    "ExecuteTime": {
     "start_time": "2021-01-26T17:08:34.632Z"
    }
   },
   "outputs": [],
   "source": [
    "if not (modelPath / LSTM0name).is_file():\n",
    "    print(f\"Saving {LSTM0name} to disk.\")\n",
    "    LSTM0.save(modelPath / LSTM0name)"
   ]
  },
  {
   "cell_type": "markdown",
   "metadata": {},
   "source": [
    "#### LSTM 0 inference on test data"
   ]
  },
  {
   "cell_type": "code",
   "execution_count": null,
   "metadata": {
    "ExecuteTime": {
     "start_time": "2021-01-26T17:08:34.889Z"
    }
   },
   "outputs": [],
   "source": [
    "softmaxOut = LSTM0.predict(x=XdocsTe)"
   ]
  },
  {
   "cell_type": "code",
   "execution_count": null,
   "metadata": {
    "ExecuteTime": {
     "start_time": "2021-01-26T17:08:34.895Z"
    }
   },
   "outputs": [],
   "source": [
    "yPred = np.argmax(softmaxOut, axis=1)"
   ]
  },
  {
   "cell_type": "code",
   "execution_count": null,
   "metadata": {
    "ExecuteTime": {
     "start_time": "2021-01-26T17:08:34.901Z"
    }
   },
   "outputs": [],
   "source": [
    "confusionMat = confusion_matrix(yTe, yPred)\n",
    "print(confusionMat)"
   ]
  },
  {
   "cell_type": "code",
   "execution_count": null,
   "metadata": {
    "ExecuteTime": {
     "start_time": "2021-01-26T17:08:34.907Z"
    },
    "scrolled": true
   },
   "outputs": [],
   "source": [
    "accuracy = np.trace(confusionMat)/np.sum(confusionMat)\n",
    "recall = np.diag(confusionMat)/np.sum(confusionMat, axis=1)\n",
    "precision = np.diag(confusionMat)/np.sum(confusionMat, axis=0)\n",
    "print(f\"accuracy: {accuracy:0.3f}, \"\n",
    "      f\"<precision>: {np.mean(precision):0.3f}, \"\n",
    "      f\"<recall>: {np.mean(recall):0.3f}\")"
   ]
  },
  {
   "cell_type": "markdown",
   "metadata": {},
   "source": [
    "##### Classification report"
   ]
  },
  {
   "cell_type": "code",
   "execution_count": null,
   "metadata": {
    "ExecuteTime": {
     "start_time": "2021-01-26T17:08:35.176Z"
    },
    "scrolled": true
   },
   "outputs": [],
   "source": [
    "classificationReport = classification_report(yTe.values, yPred,\n",
    "                                             target_names=[str(c)for c in categoriesBySupport])\n",
    "print(classificationReport)"
   ]
  },
  {
   "cell_type": "markdown",
   "metadata": {},
   "source": [
    "##### Sorted `classificationReport`\n",
    "\n",
    "* Order by support"
   ]
  },
  {
   "cell_type": "code",
   "execution_count": null,
   "metadata": {
    "ExecuteTime": {
     "start_time": "2021-01-26T17:08:35.451Z"
    }
   },
   "outputs": [],
   "source": [
    "print(ph.sortClassificationReport(classificationReport))"
   ]
  },
  {
   "cell_type": "markdown",
   "metadata": {},
   "source": [
    "##### Plot confusion matrix\n",
    "\n",
    "* As this is a straight confusion matrix, diagonal elements mostly reflect class size in test set\n",
    "* *This is hard to interpret by visual inspection alone*"
   ]
  },
  {
   "cell_type": "code",
   "execution_count": null,
   "metadata": {
    "ExecuteTime": {
     "start_time": "2021-01-26T17:08:35.722Z"
    }
   },
   "outputs": [],
   "source": [
    "labelFontSz = 16\n",
    "tickFontSz = 13\n",
    "titleFontSz = 20"
   ]
  },
  {
   "cell_type": "code",
   "execution_count": null,
   "metadata": {
    "ExecuteTime": {
     "start_time": "2021-01-26T17:08:35.728Z"
    },
    "scrolled": false
   },
   "outputs": [],
   "source": [
    "fig, ax = plt.subplots(1, 1, figsize=(12, 12))\n",
    "ph.plotConfusionMatrix(confusionMat, saveAs=None, xlabels=categories,\n",
    "                       ylabels=categories, titleText = 'LSTM 0',\n",
    "                       ax = ax,  xlabelFontSz=labelFontSz,\n",
    "                       xtickRotate=0.65, ytickRotate=0.0,\n",
    "                       ylabelFontSz=labelFontSz, xtickFontSz=tickFontSz,\n",
    "                       ytickFontSz=tickFontSz, titleFontSz=titleFontSz)"
   ]
  },
  {
   "cell_type": "markdown",
   "metadata": {},
   "source": [
    "##### Plot recall confusion matrix\n",
    "\n",
    "* normalized by *row*\n",
    "* diagonal elements now represent the *recall* for each class"
   ]
  },
  {
   "cell_type": "code",
   "execution_count": null,
   "metadata": {
    "ExecuteTime": {
     "start_time": "2021-01-26T17:08:36.004Z"
    },
    "scrolled": false
   },
   "outputs": [],
   "source": [
    "fig, ax = plt.subplots(1, 1, figsize=(12, 12))\n",
    "ph.plotConfusionMatrix(confusionMat, saveAs=None, xlabels=categories,\n",
    "                       ylabels=categories, titleText = 'LSTM 0',\n",
    "                       ax = ax, xlabelFontSz=labelFontSz,\n",
    "                       xtickRotate=0.65, ytickRotate=0.0, type='recall',\n",
    "                       ylabelFontSz=labelFontSz, xtickFontSz=tickFontSz,\n",
    "                       ytickFontSz=tickFontSz, titleFontSz=titleFontSz)"
   ]
  },
  {
   "cell_type": "markdown",
   "metadata": {},
   "source": [
    "##### Plot precision confusion matrix\n",
    "\n",
    "* normalized by *column*\n",
    "* diagonal elements now represent the *precision* for each class"
   ]
  },
  {
   "cell_type": "code",
   "execution_count": null,
   "metadata": {
    "ExecuteTime": {
     "start_time": "2021-01-26T17:08:36.298Z"
    },
    "scrolled": false
   },
   "outputs": [],
   "source": [
    "fig, ax = plt.subplots(1, 1, figsize=(12, 12))\n",
    "ph.plotConfusionMatrix(confusionMat, saveAs=None, xlabels=categories,\n",
    "                       ylabels=categories, titleText = 'LSTM 0',\n",
    "                       ax = ax,  xlabelFontSz=labelFontSz,\n",
    "                       xtickRotate=0.65, ytickRotate=0.0, type='precision',\n",
    "                       ylabelFontSz=labelFontSz, xtickFontSz=tickFontSz,\n",
    "                       ytickFontSz=tickFontSz, titleFontSz=titleFontSz)"
   ]
  },
  {
   "cell_type": "markdown",
   "metadata": {},
   "source": [
    "<a id=\"lstm1-parameters\"></a>\n",
    "### LSTM 1, baseline model parameters\n",
    "\n",
    "* Bidirectional(LSTM) only\n",
    "* `LSTMlayerUnits = 128`\t\t🢢\n",
    "* `maxDocWords = 64`\n",
    "\n",
    "Refer to the [LSTM 0 & LSTM 1 tokenize](#tokenize-64-tokens) section for the size of `maxVocabCt`.\n",
    "\n",
    "|parameter|&nbsp;&nbsp;|description|\n",
    "|:--------|------------|:----------|\n",
    "|`testFrac`||fraction of data set withheld|\n",
    "|`LSTMlayerUnits`||# units within each activation unit in LSTMs|\n",
    "|`embeddingDim'||size of dimension for generated embeddings|\n",
    "|`auxFeaturesCt`||# of features in auxiliary data|\n",
    "|`classCt`||# classes (softmax output dim)|\n",
    "|`dropoutFrac`||dropout fraction|\n",
    "|`LSTMdropoutFrac`||dropout fraction within LSTMs|\n",
    "|`batchSz`||size of batches|\n",
    "|`epochCt`||number of epochs to run|"
   ]
  },
  {
   "cell_type": "code",
   "execution_count": null,
   "metadata": {
    "ExecuteTime": {
     "start_time": "2021-01-26T17:08:36.577Z"
    }
   },
   "outputs": [],
   "source": [
    "testFrac = 0.5\n",
    "LSTMlayerUnits = 128\t\t# 🢢🢢🢢\n",
    "embeddingDim = 64\n",
    "classCt = len(categoriesBySupport)\n",
    "dropoutFrac = 0.15\n",
    "LSTMdropoutFrac = 0.5\n",
    "# LSTMdropoutFrac = 0\t\t\t# Must be 0 for use of cudnn\n",
    "batchSz = 64\n",
    "epochCt = 30"
   ]
  },
  {
   "cell_type": "markdown",
   "metadata": {},
   "source": [
    "#### LSTM 1 callbacks\n",
    "\n",
    "* checkpoints\n",
    "* TensorBoard\n",
    "* (no early stopping)"
   ]
  },
  {
   "cell_type": "code",
   "execution_count": null,
   "metadata": {
    "ExecuteTime": {
     "start_time": "2021-01-26T17:08:36.852Z"
    }
   },
   "outputs": [],
   "source": [
    "modelInstanceDir = (f\"vocabCt{maxVocabCt:06d}maxCommentLen{maxDocWords:03d}\"\n",
    "                    + f\"classCt{classCt:02d}\"\n",
    "                    + f\"embedDim{embeddingDim:03d}\"\n",
    "                    + f\"LSTMlayerSz{LSTMlayerUnits:03d}batchSz{batchSz:03d}\"\n",
    "                    + f\"dropoutFrac{dropoutFrac:4.2f}\"\n",
    "                    + f\"LSTMdropoutFrac{dropoutFrac:4.2f}\")\n",
    "print(modelInstanceDir, \"\\n\")\n",
    "\n",
    "checkpointPrefix = os.path.join(checkpointPath, modelInstanceDir,\n",
    "                                \"ckpt{epoch:03d}\")\n",
    "print(checkpointPrefix, \"\\n\")\n",
    "\n",
    "checkpointCallback=ModelCheckpoint(filepath=checkpointPrefix,\n",
    "                                   save_weights_only=True)\n",
    "os.makedirs(tensorBoardPath, exist_ok=True)                       \n",
    "\n",
    "logsDir = os.path.join(tensorBoardPath, modelInstanceDir)\n",
    "print(logsDir, \"\\n\")\n",
    "\n",
    "os.makedirs(logsDir, exist_ok=True)\n",
    "tensorboardCallback = TensorBoard(log_dir=logsDir, histogram_freq=1)"
   ]
  },
  {
   "cell_type": "markdown",
   "metadata": {},
   "source": [
    "#### Load or instantiate LSTM 1"
   ]
  },
  {
   "cell_type": "code",
   "execution_count": null,
   "metadata": {
    "ExecuteTime": {
     "start_time": "2021-01-26T17:08:37.206Z"
    }
   },
   "outputs": [],
   "source": [
    "LSTM1name = 'LSTM1'\n",
    "\n",
    "if (modelPath / LSTM1name).is_file():\n",
    "    print(f\"Loading {LSTM1name} model from disk.\")\n",
    "    LSTM1 = load(modelPath / LSTM1name)\n",
    "else:\n",
    "    np.random.seed(0)  # Set a random seed for reproducibility\n",
    "\n",
    "    print(\"Instantiate LSTM 1, using model0 ...\")\n",
    "    with device('/device:GPU:1'):\n",
    "        LSTM1 = model0(maxDocWords, maxVocabCt, classCt, LSTMlayerUnits,\n",
    "                       embeddingDim, softMaxCt=classCt)\n",
    "    LSTM1.summary()"
   ]
  },
  {
   "cell_type": "markdown",
   "metadata": {},
   "source": [
    "#### Compile LSTM 1"
   ]
  },
  {
   "cell_type": "code",
   "execution_count": null,
   "metadata": {
    "ExecuteTime": {
     "start_time": "2021-01-26T17:08:37.559Z"
    }
   },
   "outputs": [],
   "source": [
    "if not (modelPath / LSTM1name).is_file():\n",
    "    with device('/device:GPU:1'):\n",
    "      LSTM1.compile(optimizer='rmsprop',\n",
    "                  loss='sparse_categorical_crossentropy',\n",
    "                  # metrics = ['accuracy', Recall(), Precision(),\n",
    "                  #            F1Score(num_classes=classCt), 'categorical_crossentropy'])\n",
    "                  metrics = ['accuracy', SparseCategoricalCrossentropy(from_logits=False)])"
   ]
  },
  {
   "cell_type": "markdown",
   "metadata": {},
   "source": [
    "<a id=\"train-lstm1\"></a>\n",
    "#### Train LSTM 1"
   ]
  },
  {
   "cell_type": "code",
   "execution_count": null,
   "metadata": {
    "ExecuteTime": {
     "start_time": "2021-01-26T17:08:37.844Z"
    },
    "scrolled": false
   },
   "outputs": [],
   "source": [
    "if not (modelPath / LSTM1name).is_file():\n",
    "    print(epochCt, batchSz)\n",
    "    print(classWeights)\n",
    "    with device('/device:GPU:1'):\n",
    "        history1 = LSTM1.fit(x=XdocsTr,\n",
    "                             y= yTr.values,\n",
    "                             epochs=epochCt, batch_size=batchSz,\n",
    "                             shuffle=True,\n",
    "                             class_weight=classWeights,\n",
    "                             validation_split=0.2,\n",
    "                             callbacks=[checkpointCallback, tensorboardCallback],\n",
    "                             verbose=1)"
   ]
  },
  {
   "cell_type": "markdown",
   "metadata": {},
   "source": [
    "#### Save LSTM 1, if new model"
   ]
  },
  {
   "cell_type": "code",
   "execution_count": null,
   "metadata": {
    "ExecuteTime": {
     "start_time": "2021-01-26T17:08:38.144Z"
    }
   },
   "outputs": [],
   "source": [
    "if not (modelPath / LSTM1name).is_file():\n",
    "    print(f\"Saving {LSTM1name} to disk.\")\n",
    "    LSTM1.save(modelPath / LSTM1name)"
   ]
  },
  {
   "cell_type": "markdown",
   "metadata": {},
   "source": [
    "#### LSTM 1 inference on test data"
   ]
  },
  {
   "cell_type": "code",
   "execution_count": null,
   "metadata": {
    "ExecuteTime": {
     "start_time": "2021-01-26T17:08:38.439Z"
    }
   },
   "outputs": [],
   "source": [
    "softmaxOut = LSTM1.predict(x=XdocsTe)"
   ]
  },
  {
   "cell_type": "code",
   "execution_count": null,
   "metadata": {
    "ExecuteTime": {
     "start_time": "2021-01-26T17:08:38.445Z"
    }
   },
   "outputs": [],
   "source": [
    "yPred = np.argmax(softmaxOut, axis=1)"
   ]
  },
  {
   "cell_type": "code",
   "execution_count": null,
   "metadata": {
    "ExecuteTime": {
     "start_time": "2021-01-26T17:08:38.451Z"
    }
   },
   "outputs": [],
   "source": [
    "confusionMat = confusion_matrix(yTe, yPred)\n",
    "print(confusionMat)"
   ]
  },
  {
   "cell_type": "code",
   "execution_count": null,
   "metadata": {
    "ExecuteTime": {
     "start_time": "2021-01-26T17:08:38.457Z"
    }
   },
   "outputs": [],
   "source": [
    "np.where(np.sum(confusionMat, axis=0) == 0)"
   ]
  },
  {
   "cell_type": "code",
   "execution_count": null,
   "metadata": {
    "ExecuteTime": {
     "start_time": "2021-01-26T17:08:38.465Z"
    },
    "scrolled": true
   },
   "outputs": [],
   "source": [
    "accuracy = np.trace(confusionMat)/np.sum(confusionMat)\n",
    "recall = np.diag(confusionMat)/np.sum(confusionMat, axis=1)\n",
    "precision = np.diag(confusionMat)/np.sum(confusionMat, axis=0)\n",
    "print(f\"accuracy: {accuracy:0.3f}, \"\n",
    "      f\"<precision>: {np.mean(precision):0.3f}, \"\n",
    "      f\"<recall>: {np.mean(recall):0.3f}\")"
   ]
  },
  {
   "cell_type": "markdown",
   "metadata": {},
   "source": [
    "##### Classification report"
   ]
  },
  {
   "cell_type": "code",
   "execution_count": null,
   "metadata": {
    "ExecuteTime": {
     "start_time": "2021-01-26T17:08:38.763Z"
    },
    "scrolled": true
   },
   "outputs": [],
   "source": [
    "classificationReport = classification_report(yTe.values, yPred,\n",
    "                                             target_names=[str(c)for c in categoriesBySupport])\n",
    "print(classificationReport)"
   ]
  },
  {
   "cell_type": "markdown",
   "metadata": {},
   "source": [
    "##### Sorted `classificationReport`\n",
    "\n",
    "* Order by support"
   ]
  },
  {
   "cell_type": "code",
   "execution_count": null,
   "metadata": {
    "ExecuteTime": {
     "start_time": "2021-01-26T17:08:39.070Z"
    }
   },
   "outputs": [],
   "source": [
    "print(ph.sortClassificationReport(classificationReport))"
   ]
  },
  {
   "cell_type": "markdown",
   "metadata": {},
   "source": [
    "##### Plot confusion matrix\n",
    "\n",
    "* As this is a straight confusion matrix, diagonal elements mostly reflect class size in test set\n",
    "* *This is hard to interpret by visual inspection alone*"
   ]
  },
  {
   "cell_type": "code",
   "execution_count": null,
   "metadata": {
    "ExecuteTime": {
     "start_time": "2021-01-26T17:08:39.375Z"
    }
   },
   "outputs": [],
   "source": [
    "labelFontSz = 16\n",
    "tickFontSz = 13\n",
    "titleFontSz = 20"
   ]
  },
  {
   "cell_type": "code",
   "execution_count": null,
   "metadata": {
    "ExecuteTime": {
     "start_time": "2021-01-26T17:08:39.381Z"
    },
    "scrolled": false
   },
   "outputs": [],
   "source": [
    "fig, ax = plt.subplots(1, 1, figsize=(12, 12))\n",
    "ph.plotConfusionMatrix(confusionMat, saveAs=None, xlabels=categories,\n",
    "                       ylabels=categories, titleText = 'LSTM 1',\n",
    "                       ax = ax,  xlabelFontSz=labelFontSz,\n",
    "                       xtickRotate=0.65, ytickRotate=0.0,\n",
    "                       ylabelFontSz=labelFontSz, xtickFontSz=tickFontSz,\n",
    "                       ytickFontSz=tickFontSz, titleFontSz=titleFontSz)"
   ]
  },
  {
   "cell_type": "markdown",
   "metadata": {},
   "source": [
    "##### Plot recall confusion matrix\n",
    "\n",
    "* normalized by *row*\n",
    "* diagonal elements now represent the *recall* for each class"
   ]
  },
  {
   "cell_type": "code",
   "execution_count": null,
   "metadata": {
    "ExecuteTime": {
     "start_time": "2021-01-26T17:08:39.691Z"
    },
    "scrolled": false
   },
   "outputs": [],
   "source": [
    "fig, ax = plt.subplots(1, 1, figsize=(12, 12))\n",
    "ph.plotConfusionMatrix(confusionMat, saveAs=None, xlabels=categories,\n",
    "                       ylabels=categories, titleText = 'LSTM 1',\n",
    "                       ax = ax, xlabelFontSz=labelFontSz,\n",
    "                       xtickRotate=0.65, ytickRotate=0.0, type='recall',\n",
    "                       ylabelFontSz=labelFontSz, xtickFontSz=tickFontSz,\n",
    "                       ytickFontSz=tickFontSz, titleFontSz=titleFontSz)"
   ]
  },
  {
   "cell_type": "markdown",
   "metadata": {},
   "source": [
    "##### Plot precision confusion matrix\n",
    "\n",
    "* normalized by *column*\n",
    "* diagonal elements now represent the *precision* for each class"
   ]
  },
  {
   "cell_type": "code",
   "execution_count": null,
   "metadata": {
    "ExecuteTime": {
     "start_time": "2021-01-26T17:08:40.011Z"
    },
    "scrolled": false
   },
   "outputs": [],
   "source": [
    "fig, ax = plt.subplots(1, 1, figsize=(12, 12))\n",
    "ph.plotConfusionMatrix(confusionMat, saveAs=None, xlabels=categories,\n",
    "                       ylabels=categories, titleText = 'LSTM 1',\n",
    "                       ax = ax,  xlabelFontSz=labelFontSz,\n",
    "                       xtickRotate=0.65, ytickRotate=0.0, type='precision',\n",
    "                       ylabelFontSz=labelFontSz, xtickFontSz=tickFontSz,\n",
    "                       ytickFontSz=tickFontSz, titleFontSz=titleFontSz)"
   ]
  },
  {
   "cell_type": "markdown",
   "metadata": {},
   "source": [
    "<a id=\"tokenize-128-tokens\"></a>\n",
    "### LSTM 2 tokenize\n",
    "\n",
    "* truncate docs to `maxDocWords = 128` tokens\n",
    "* pre-pad shorter docs with 0s\n",
    "\n",
    "##### Tensor of word indices for train"
   ]
  },
  {
   "cell_type": "code",
   "execution_count": null,
   "metadata": {
    "ExecuteTime": {
     "end_time": "2021-01-26T05:14:37.989023Z",
     "start_time": "2021-01-26T05:14:37.679848Z"
    }
   },
   "outputs": [],
   "source": [
    "padValue = 0\n",
    "maxDocWords = 128\t\t# 🢢🢢🢢\n",
    "\n",
    "XdocsTr = pad_sequences(listOfListsOfWordIndicesTr,\n",
    "                        maxlen=maxDocWords,\n",
    "                        dtype='int32', padding='pre',\n",
    "                        truncating='post', value=padValue)"
   ]
  },
  {
   "cell_type": "code",
   "execution_count": null,
   "metadata": {
    "ExecuteTime": {
     "end_time": "2021-01-26T05:14:38.589932Z",
     "start_time": "2021-01-26T05:14:38.556944Z"
    },
    "scrolled": false
   },
   "outputs": [],
   "source": [
    "ListOfDocsTr[0]\n",
    "print(listOfListsOfWordIndicesTr[0])\n",
    "XdocsTr[0]"
   ]
  },
  {
   "cell_type": "markdown",
   "metadata": {},
   "source": [
    "##### Tensor of word indices for test"
   ]
  },
  {
   "cell_type": "code",
   "execution_count": null,
   "metadata": {
    "ExecuteTime": {
     "end_time": "2021-01-26T05:14:45.257310Z",
     "start_time": "2021-01-26T05:14:41.673483Z"
    }
   },
   "outputs": [],
   "source": [
    "ListOfDocsTe = list(dfTe.docText)\n",
    "listOfListsOfWordIndicesTe = tokenizer.texts_to_sequences(ListOfDocsTe)\n",
    "XdocsTe = pad_sequences(listOfListsOfWordIndicesTe,\n",
    "                        maxlen=maxDocWords,\n",
    "                        dtype='int32', padding='pre',\n",
    "                        truncating='post', value=padValue)"
   ]
  },
  {
   "cell_type": "code",
   "execution_count": null,
   "metadata": {
    "ExecuteTime": {
     "end_time": "2021-01-26T05:14:45.286303Z",
     "start_time": "2021-01-26T05:14:45.259207Z"
    },
    "scrolled": false
   },
   "outputs": [],
   "source": [
    "ListOfDocsTe[0]\n",
    "print(listOfListsOfWordIndicesTe[0])\n",
    "XdocsTe[0]"
   ]
  },
  {
   "cell_type": "markdown",
   "metadata": {},
   "source": [
    "<a id=\"lstm2-parameters\"></a>\n",
    "### LSTM 2, baseline model parameters\n",
    "\n",
    "* Bidirectional(LSTM) only\n",
    "* `LSTMlayerUnits = 128`\n",
    "* `maxDocWords = 128`\t\t🢢\n",
    "\n",
    "Refer to the [LSTM 2](#tokenize-128-tokens) section for the size of `maxVocabCt`.\n",
    "\n",
    "|parameter|&nbsp;&nbsp;|description|\n",
    "|:--------|------------|:----------|\n",
    "|`testFrac`||fraction of data set withheld|\n",
    "|`LSTMlayerUnits`||# units within each activation unit in LSTMs|\n",
    "|`embeddingDim'||size of dimension for generated embeddings|\n",
    "|`auxFeaturesCt`||# of features in auxiliary data|\n",
    "|`classCt`||# classes (softmax output dim)|\n",
    "|`dropoutFrac`||dropout fraction|\n",
    "|`LSTMdropoutFrac`||dropout fraction within LSTMs|\n",
    "|`batchSz`||size of batches|\n",
    "|`epochCt`||number of epochs to run|"
   ]
  },
  {
   "cell_type": "code",
   "execution_count": null,
   "metadata": {
    "ExecuteTime": {
     "end_time": "2021-01-26T05:19:14.094050Z",
     "start_time": "2021-01-26T05:19:14.063369Z"
    }
   },
   "outputs": [],
   "source": [
    "testFrac = 0.5\n",
    "LSTMlayerUnits = 128\n",
    "embeddingDim = 64\n",
    "classCt = len(categoriesBySupport)\n",
    "dropoutFrac = 0.15\n",
    "LSTMdropoutFrac = 0.5\n",
    "# LSTMdropoutFrac = 0\t\t\t# Must be 0 for use of cudnn\n",
    "batchSz = 64\n",
    "epochCt = 30"
   ]
  },
  {
   "cell_type": "markdown",
   "metadata": {},
   "source": [
    "#### LSTM 2 callbacks\n",
    "\n",
    "* checkpoints\n",
    "* TensorBoard\n",
    "* (no early stopping)"
   ]
  },
  {
   "cell_type": "code",
   "execution_count": null,
   "metadata": {
    "ExecuteTime": {
     "start_time": "2021-01-26T17:08:36.852Z"
    }
   },
   "outputs": [],
   "source": [
    "modelInstanceDir = (f\"vocabCt{maxVocabCt:06d}maxCommentLen{maxDocWords:03d}\"\n",
    "                    + f\"classCt{classCt:02d}\"\n",
    "                    + f\"embedDim{embeddingDim:03d}\"\n",
    "                    + f\"LSTMlayerSz{LSTMlayerUnits:03d}batchSz{batchSz:03d}\"\n",
    "                    + f\"dropoutFrac{dropoutFrac:4.2f}\"\n",
    "                    + f\"LSTMdropoutFrac{dropoutFrac:4.2f}\")\n",
    "print(modelInstanceDir, \"\\n\")\n",
    "\n",
    "checkpointPrefix = os.path.join(checkpointPath, modelInstanceDir,\n",
    "                                \"ckpt{epoch:03d}\")\n",
    "print(checkpointPrefix, \"\\n\")\n",
    "\n",
    "checkpointCallback=ModelCheckpoint(filepath=checkpointPrefix,\n",
    "                                   save_weights_only=True)\n",
    "os.makedirs(tensorBoardPath, exist_ok=True)                       \n",
    "\n",
    "logsDir = os.path.join(tensorBoardPath, modelInstanceDir)\n",
    "print(logsDir, \"\\n\")\n",
    "\n",
    "os.makedirs(logsDir, exist_ok=True)\n",
    "tensorboardCallback = TensorBoard(log_dir=logsDir, histogram_freq=1)"
   ]
  },
  {
   "cell_type": "markdown",
   "metadata": {},
   "source": [
    "#### Load or instantiate LSTM 2"
   ]
  },
  {
   "cell_type": "code",
   "execution_count": null,
   "metadata": {
    "ExecuteTime": {
     "start_time": "2021-01-26T17:26:59.157Z"
    }
   },
   "outputs": [],
   "source": [
    "LSTM2name = 'LSTM2'\n",
    "\n",
    "if (modelPath / LSTM2name).is_file():\n",
    "    print(f\"Loading {LSTM2name} model from disk.\")\n",
    "    LSTM2 = load(modelPath / LSTM2name)\n",
    "else:\n",
    "    np.random.seed(0)  # Set a random seed for reproducibility\n",
    "\n",
    "    print(\"Instantiate LSTM 2, using model0 ...\")\n",
    "    with device('/device:GPU:1'):\n",
    "        LSTM2 = model0(maxDocWords, maxVocabCt, classCt, LSTMlayerUnits,\n",
    "                       embeddingDim, softMaxCt=classCt)\n",
    "    LSTM2.summary()"
   ]
  },
  {
   "cell_type": "markdown",
   "metadata": {},
   "source": [
    "#### Compile LSTM 2"
   ]
  },
  {
   "cell_type": "code",
   "execution_count": null,
   "metadata": {
    "ExecuteTime": {
     "end_time": "2021-01-26T05:19:26.197508Z",
     "start_time": "2021-01-26T05:19:26.155762Z"
    }
   },
   "outputs": [],
   "source": [
    "if not (modelPath / LSTM2name).is_file():\n",
    "    with device('/device:GPU:1'):\n",
    "      LSTM2.compile(optimizer='rmsprop',\n",
    "                  loss='sparse_categorical_crossentropy',\n",
    "                  # metrics = ['accuracy', Recall(), Precision(),\n",
    "                  #            F1Score(num_classes=classCt), 'categorical_crossentropy'])\n",
    "                  metrics = ['accuracy', SparseCategoricalCrossentropy(from_logits=False)])"
   ]
  },
  {
   "cell_type": "markdown",
   "metadata": {},
   "source": [
    "<a id=\"train-lstm2\"></a>\n",
    "#### Train LSTM 2"
   ]
  },
  {
   "cell_type": "code",
   "execution_count": null,
   "metadata": {
    "ExecuteTime": {
     "end_time": "2021-01-26T07:19:51.481593Z",
     "start_time": "2021-01-26T05:19:27.783292Z"
    },
    "scrolled": false
   },
   "outputs": [],
   "source": [
    "if not (modelPath / LSTM2name).is_file():\n",
    "    print(epochCt, batchSz)\n",
    "    print(classWeights)\n",
    "    with device('/device:GPU:1'):\n",
    "        history2 = LSTM2.fit(x=XdocsTr,\n",
    "                             y= yTr.values,\n",
    "                             epochs=epochCt, batch_size=batchSz,\n",
    "                             shuffle=True,\n",
    "                             class_weight=classWeights,\n",
    "                             validation_split=0.2,\n",
    "                             callbacks=[checkpointCallback, tensorboardCallback],\n",
    "                             verbose=1)"
   ]
  },
  {
   "cell_type": "markdown",
   "metadata": {},
   "source": [
    "#### Save LSTM 2, if new model"
   ]
  },
  {
   "cell_type": "code",
   "execution_count": null,
   "metadata": {
    "ExecuteTime": {
     "end_time": "2021-01-26T07:19:58.057364Z",
     "start_time": "2021-01-26T07:19:51.483716Z"
    }
   },
   "outputs": [],
   "source": [
    "if not (modelPath / LSTM2name).is_file():\n",
    "    print(f\"Saving {LSTM2name} to disk.\")\n",
    "    LSTM2.save(modelPath / LSTM2name)"
   ]
  },
  {
   "cell_type": "markdown",
   "metadata": {},
   "source": [
    "#### LSTM 2 inference on test data"
   ]
  },
  {
   "cell_type": "code",
   "execution_count": null,
   "metadata": {
    "ExecuteTime": {
     "end_time": "2021-01-26T07:21:45.057423Z",
     "start_time": "2021-01-26T07:19:58.078033Z"
    }
   },
   "outputs": [],
   "source": [
    "softmaxOut = LSTM2.predict(x=XdocsTe)"
   ]
  },
  {
   "cell_type": "code",
   "execution_count": null,
   "metadata": {
    "ExecuteTime": {
     "end_time": "2021-01-26T07:21:45.087491Z",
     "start_time": "2021-01-26T07:21:45.059228Z"
    }
   },
   "outputs": [],
   "source": [
    "yPred = np.argmax(softmaxOut, axis=1)"
   ]
  },
  {
   "cell_type": "code",
   "execution_count": null,
   "metadata": {
    "ExecuteTime": {
     "end_time": "2021-01-26T07:21:45.137314Z",
     "start_time": "2021-01-26T07:21:45.089938Z"
    }
   },
   "outputs": [],
   "source": [
    "confusionMat = confusion_matrix(yTe, yPred)\n",
    "print(confusionMat)"
   ]
  },
  {
   "cell_type": "code",
   "execution_count": null,
   "metadata": {
    "ExecuteTime": {
     "end_time": "2021-01-26T07:21:45.165453Z",
     "start_time": "2021-01-26T07:21:45.139213Z"
    }
   },
   "outputs": [],
   "source": [
    "np.where(np.sum(confusionMat, axis=0) == 0)"
   ]
  },
  {
   "cell_type": "code",
   "execution_count": null,
   "metadata": {
    "ExecuteTime": {
     "end_time": "2021-01-26T07:21:45.193716Z",
     "start_time": "2021-01-26T07:21:45.167339Z"
    },
    "scrolled": true
   },
   "outputs": [],
   "source": [
    "accuracy = np.trace(confusionMat)/np.sum(confusionMat)\n",
    "recall = np.diag(confusionMat)/np.sum(confusionMat, axis=1)\n",
    "precision = np.diag(confusionMat)/np.sum(confusionMat, axis=0)\n",
    "print(f\"accuracy: {accuracy:0.3f}, \"\n",
    "      f\"<precision>: {np.mean(precision):0.3f}, \"\n",
    "      f\"<recall>: {np.mean(recall):0.3f}\")"
   ]
  },
  {
   "cell_type": "markdown",
   "metadata": {},
   "source": [
    "##### Classification report"
   ]
  },
  {
   "cell_type": "code",
   "execution_count": null,
   "metadata": {
    "ExecuteTime": {
     "end_time": "2021-01-26T07:21:45.262729Z",
     "start_time": "2021-01-26T07:21:45.195589Z"
    },
    "scrolled": true
   },
   "outputs": [],
   "source": [
    "classificationReport = classification_report(yTe.values, yPred,\n",
    "                                             target_names=[str(c)for c in categoriesBySupport])\n",
    "print(classificationReport)"
   ]
  },
  {
   "cell_type": "markdown",
   "metadata": {},
   "source": [
    "##### Sorted `classificationReport`\n",
    "\n",
    "* Order by support"
   ]
  },
  {
   "cell_type": "code",
   "execution_count": null,
   "metadata": {
    "ExecuteTime": {
     "end_time": "2021-01-26T07:21:45.289385Z",
     "start_time": "2021-01-26T07:21:45.264351Z"
    }
   },
   "outputs": [],
   "source": [
    "print(ph.sortClassificationReport(classificationReport))"
   ]
  },
  {
   "cell_type": "markdown",
   "metadata": {},
   "source": [
    "##### Plot confusion matrix\n",
    "\n",
    "* As this is a straight confusion matrix, diagonal elements mostly reflect class size in test set\n",
    "* *This is hard to interpret by visual inspection alone*"
   ]
  },
  {
   "cell_type": "code",
   "execution_count": null,
   "metadata": {
    "ExecuteTime": {
     "end_time": "2021-01-26T07:21:45.318045Z",
     "start_time": "2021-01-26T07:21:45.291379Z"
    }
   },
   "outputs": [],
   "source": [
    "labelFontSz = 16\n",
    "tickFontSz = 13\n",
    "titleFontSz = 20"
   ]
  },
  {
   "cell_type": "code",
   "execution_count": null,
   "metadata": {
    "ExecuteTime": {
     "end_time": "2021-01-26T07:21:46.410157Z",
     "start_time": "2021-01-26T07:21:45.319675Z"
    },
    "scrolled": false
   },
   "outputs": [],
   "source": [
    "fig, ax = plt.subplots(1, 1, figsize=(12, 12))\n",
    "ph.plotConfusionMatrix(confusionMat, saveAs=None, xlabels=categories,\n",
    "                       ylabels=categories, titleText = 'LSTM 2',\n",
    "                       ax = ax,  xlabelFontSz=labelFontSz,\n",
    "                       xtickRotate=0.65, ytickRotate=0.0,\n",
    "                       ylabelFontSz=labelFontSz, xtickFontSz=tickFontSz,\n",
    "                       ytickFontSz=tickFontSz, titleFontSz=titleFontSz)"
   ]
  },
  {
   "cell_type": "markdown",
   "metadata": {},
   "source": [
    "##### Plot recall confusion matrix\n",
    "\n",
    "* normalized by *row*\n",
    "* diagonal elements now represent the *recall* for each class"
   ]
  },
  {
   "cell_type": "code",
   "execution_count": null,
   "metadata": {
    "ExecuteTime": {
     "end_time": "2021-01-26T07:21:47.557856Z",
     "start_time": "2021-01-26T07:21:46.411698Z"
    },
    "scrolled": false
   },
   "outputs": [],
   "source": [
    "fig, ax = plt.subplots(1, 1, figsize=(12, 12))\n",
    "ph.plotConfusionMatrix(confusionMat, saveAs=None, xlabels=categories,\n",
    "                       ylabels=categories, titleText = 'LSTM 2',\n",
    "                       ax = ax, xlabelFontSz=labelFontSz,\n",
    "                       xtickRotate=0.65, ytickRotate=0.0, type='recall',\n",
    "                       ylabelFontSz=labelFontSz, xtickFontSz=tickFontSz,\n",
    "                       ytickFontSz=tickFontSz, titleFontSz=titleFontSz)"
   ]
  },
  {
   "cell_type": "markdown",
   "metadata": {},
   "source": [
    "##### Plot precision confusion matrix\n",
    "\n",
    "* normalized by *column*\n",
    "* diagonal elements now represent the *precision* for each class"
   ]
  },
  {
   "cell_type": "code",
   "execution_count": null,
   "metadata": {
    "ExecuteTime": {
     "end_time": "2021-01-26T07:21:48.727931Z",
     "start_time": "2021-01-26T07:21:47.559429Z"
    },
    "scrolled": false
   },
   "outputs": [],
   "source": [
    "fig, ax = plt.subplots(1, 1, figsize=(12, 12))\n",
    "ph.plotConfusionMatrix(confusionMat, saveAs=None, xlabels=categories,\n",
    "                       ylabels=categories, titleText = 'LSTM 2',\n",
    "                       ax = ax,  xlabelFontSz=labelFontSz,\n",
    "                       xtickRotate=0.65, ytickRotate=0.0, type='precision',\n",
    "                       ylabelFontSz=labelFontSz, xtickFontSz=tickFontSz,\n",
    "                       ytickFontSz=tickFontSz, titleFontSz=titleFontSz)"
   ]
  },
  {
   "cell_type": "markdown",
   "metadata": {},
   "source": [
    "<a id=\"tokenize-256-tokens\"></a>\n",
    "### LSTM 3 tokenize\n",
    "\n",
    "* truncate docs to `maxDocWords = 256` tokens\n",
    "* pre-pad shorter docs with 0s\n",
    "\n",
    "##### Tensor of word indices for train"
   ]
  },
  {
   "cell_type": "code",
   "execution_count": null,
   "metadata": {
    "ExecuteTime": {
     "end_time": "2021-01-26T05:14:37.989023Z",
     "start_time": "2021-01-26T05:14:37.679848Z"
    }
   },
   "outputs": [],
   "source": [
    "padValue = 0\n",
    "maxDocWords = 256\t\t# 🢢🢢🢢\n",
    "\n",
    "XdocsTr = pad_sequences(listOfListsOfWordIndicesTr,\n",
    "                        maxlen=maxDocWords,\n",
    "                        dtype='int32', padding='pre',\n",
    "                        truncating='post', value=padValue)"
   ]
  },
  {
   "cell_type": "code",
   "execution_count": null,
   "metadata": {
    "ExecuteTime": {
     "end_time": "2021-01-26T05:14:38.589932Z",
     "start_time": "2021-01-26T05:14:38.556944Z"
    },
    "scrolled": false
   },
   "outputs": [],
   "source": [
    "ListOfDocsTr[0]\n",
    "print(listOfListsOfWordIndicesTr[0])\n",
    "XdocsTr[0]"
   ]
  },
  {
   "cell_type": "markdown",
   "metadata": {},
   "source": [
    "##### Tensor of word indices for test"
   ]
  },
  {
   "cell_type": "code",
   "execution_count": null,
   "metadata": {
    "ExecuteTime": {
     "end_time": "2021-01-26T05:14:45.257310Z",
     "start_time": "2021-01-26T05:14:41.673483Z"
    }
   },
   "outputs": [],
   "source": [
    "ListOfDocsTe = list(dfTe.docText)\n",
    "listOfListsOfWordIndicesTe = tokenizer.texts_to_sequences(ListOfDocsTe)\n",
    "XdocsTe = pad_sequences(listOfListsOfWordIndicesTe,\n",
    "                        maxlen=maxDocWords,\n",
    "                        dtype='int32', padding='pre',\n",
    "                        truncating='post', value=padValue)"
   ]
  },
  {
   "cell_type": "code",
   "execution_count": null,
   "metadata": {
    "ExecuteTime": {
     "end_time": "2021-01-26T05:14:45.286303Z",
     "start_time": "2021-01-26T05:14:45.259207Z"
    },
    "scrolled": false
   },
   "outputs": [],
   "source": [
    "ListOfDocsTe[0]\n",
    "print(listOfListsOfWordIndicesTe[0])\n",
    "XdocsTe[0]"
   ]
  },
  {
   "cell_type": "markdown",
   "metadata": {},
   "source": [
    "<a id=\"lstm3-parameters\"></a>\n",
    "### LSTM 3, baseline model parameters\n",
    "\n",
    "* Bidirectional(LSTM) only\n",
    "* `LSTMlayerUnits = 128`\n",
    "* `maxDocWords = 256`\t\t🢢\n",
    "\n",
    "Refer to the [LSTM 3](#tokenize-256-tokens) section for the size of `maxVocabCt`.\n",
    "\n",
    "|parameter|&nbsp;&nbsp;|description|\n",
    "|:--------|------------|:----------|\n",
    "|`testFrac`||fraction of data set withheld|\n",
    "|`LSTMlayerUnits`||# units within each activation unit in LSTMs|\n",
    "|`embeddingDim'||size of dimension for generated embeddings|\n",
    "|`auxFeaturesCt`||# of features in auxiliary data|\n",
    "|`classCt`||# classes (softmax output dim)|\n",
    "|`dropoutFrac`||dropout fraction|\n",
    "|`LSTMdropoutFrac`||dropout fraction within LSTMs|\n",
    "|`batchSz`||size of batches|\n",
    "|`epochCt`||number of epochs to run|"
   ]
  },
  {
   "cell_type": "code",
   "execution_count": null,
   "metadata": {
    "ExecuteTime": {
     "end_time": "2021-01-26T05:19:14.094050Z",
     "start_time": "2021-01-26T05:19:14.063369Z"
    }
   },
   "outputs": [],
   "source": [
    "testFrac = 0.5\n",
    "LSTMlayerUnits = 128\n",
    "embeddingDim = 64\n",
    "classCt = len(categoriesBySupport)\n",
    "dropoutFrac = 0.15\n",
    "LSTMdropoutFrac = 0.5\n",
    "# LSTMdropoutFrac = 0\t\t\t# Must be 0 for use of cudnn\n",
    "batchSz = 64\n",
    "epochCt = 30"
   ]
  },
  {
   "cell_type": "markdown",
   "metadata": {},
   "source": [
    "#### LSTM 3 callbacks\n",
    "\n",
    "* checkpoints\n",
    "* TensorBoard\n",
    "* (no early stopping)"
   ]
  },
  {
   "cell_type": "code",
   "execution_count": null,
   "metadata": {
    "ExecuteTime": {
     "start_time": "2021-01-26T17:08:36.852Z"
    }
   },
   "outputs": [],
   "source": [
    "modelInstanceDir = (f\"vocabCt{maxVocabCt:06d}maxCommentLen{maxDocWords:03d}\"\n",
    "                    + f\"classCt{classCt:02d}\"\n",
    "                    + f\"embedDim{embeddingDim:03d}\"\n",
    "                    + f\"LSTMlayerSz{LSTMlayerUnits:03d}batchSz{batchSz:03d}\"\n",
    "                    + f\"dropoutFrac{dropoutFrac:4.2f}\"\n",
    "                    + f\"LSTMdropoutFrac{dropoutFrac:4.2f}\")\n",
    "print(modelInstanceDir, \"\\n\")\n",
    "\n",
    "checkpointPrefix = os.path.join(checkpointPath, modelInstanceDir,\n",
    "                                \"ckpt{epoch:03d}\")\n",
    "print(checkpointPrefix, \"\\n\")\n",
    "\n",
    "checkpointCallback=ModelCheckpoint(filepath=checkpointPrefix,\n",
    "                                   save_weights_only=True)\n",
    "os.makedirs(tensorBoardPath, exist_ok=True)                       \n",
    "\n",
    "logsDir = os.path.join(tensorBoardPath, modelInstanceDir)\n",
    "print(logsDir, \"\\n\")\n",
    "\n",
    "os.makedirs(logsDir, exist_ok=True)\n",
    "tensorboardCallback = TensorBoard(log_dir=logsDir, histogram_freq=1)"
   ]
  },
  {
   "cell_type": "markdown",
   "metadata": {},
   "source": [
    "#### Load or instantiate LSTM 3"
   ]
  },
  {
   "cell_type": "code",
   "execution_count": null,
   "metadata": {
    "ExecuteTime": {
     "start_time": "2021-01-26T17:26:59.157Z"
    }
   },
   "outputs": [],
   "source": [
    "LSTM3name = 'LSTM3'\n",
    "\n",
    "if (modelPath / LSTM3name).is_file():\n",
    "    print(f\"Loading {LSTM3name} model from disk.\")\n",
    "    LSTM3 = load(modelPath / LSTM3name)\n",
    "else:\n",
    "    np.random.seed(0)  # Set a random seed for reproducibility\n",
    "\n",
    "    print(\"Instantiate LSTM 3, using model0 ...\")\n",
    "    with device('/device:GPU:1'):\n",
    "        LSTM3 = model0(maxDocWords, maxVocabCt, classCt, LSTMlayerUnits,\n",
    "                       embeddingDim, softMaxCt=classCt)\n",
    "    LSTM3.summary()"
   ]
  },
  {
   "cell_type": "markdown",
   "metadata": {},
   "source": [
    "#### Compile LSTM 3"
   ]
  },
  {
   "cell_type": "code",
   "execution_count": null,
   "metadata": {
    "ExecuteTime": {
     "end_time": "2021-01-26T05:19:26.197508Z",
     "start_time": "2021-01-26T05:19:26.155762Z"
    }
   },
   "outputs": [],
   "source": [
    "if not (modelPath / LSTM3name).is_file():\n",
    "    with device('/device:GPU:1'):\n",
    "      LSTM3.compile(optimizer='rmsprop',\n",
    "                  loss='sparse_categorical_crossentropy',\n",
    "                  # metrics = ['accuracy', Recall(), Precision(),\n",
    "                  #            F1Score(num_classes=classCt), 'categorical_crossentropy'])\n",
    "                  metrics = ['accuracy', SparseCategoricalCrossentropy(from_logits=False)])"
   ]
  },
  {
   "cell_type": "markdown",
   "metadata": {},
   "source": [
    "<a id=\"train-lstm3\"></a>\n",
    "#### Train LSTM 3"
   ]
  },
  {
   "cell_type": "code",
   "execution_count": null,
   "metadata": {
    "ExecuteTime": {
     "start_time": "2021-01-26T17:36:38.199Z"
    },
    "scrolled": false
   },
   "outputs": [],
   "source": [
    "if not (modelPath / LSTM3name).is_file():\n",
    "    print(epochCt, batchSz)\n",
    "    print(classWeights)\n",
    "    with device('/device:GPU:1'):\n",
    "        history3 = LSTM3.fit(x=XdocsTr,\n",
    "                             y= yTr.values,\n",
    "                             epochs=epochCt, batch_size=batchSz,\n",
    "                             shuffle=True,\n",
    "                             class_weight=classWeights,\n",
    "                             validation_split=0.2,\n",
    "                             callbacks=[checkpointCallback, tensorboardCallback],\n",
    "                             verbose=1)"
   ]
  },
  {
   "cell_type": "markdown",
   "metadata": {},
   "source": [
    "#### Save LSTM 3, if new model"
   ]
  },
  {
   "cell_type": "code",
   "execution_count": null,
   "metadata": {
    "ExecuteTime": {
     "end_time": "2021-01-26T07:19:58.057364Z",
     "start_time": "2021-01-26T07:19:51.483716Z"
    }
   },
   "outputs": [],
   "source": [
    "if not (modelPath / LSTM3name).is_file():\n",
    "    print(f\"Saving {LSTM3name} to disk.\")\n",
    "    LSTM3.save(modelPath / LSTM3name)"
   ]
  },
  {
   "cell_type": "markdown",
   "metadata": {},
   "source": [
    "#### LSTM 3 inference on test data"
   ]
  },
  {
   "cell_type": "code",
   "execution_count": null,
   "metadata": {
    "ExecuteTime": {
     "end_time": "2021-01-26T07:21:45.057423Z",
     "start_time": "2021-01-26T07:19:58.078033Z"
    }
   },
   "outputs": [],
   "source": [
    "softmaxOut = LSTM3.predict(x=XdocsTe)"
   ]
  },
  {
   "cell_type": "code",
   "execution_count": null,
   "metadata": {
    "ExecuteTime": {
     "end_time": "2021-01-26T07:21:45.087491Z",
     "start_time": "2021-01-26T07:21:45.059228Z"
    }
   },
   "outputs": [],
   "source": [
    "yPred = np.argmax(softmaxOut, axis=1)"
   ]
  },
  {
   "cell_type": "code",
   "execution_count": null,
   "metadata": {
    "ExecuteTime": {
     "end_time": "2021-01-26T07:21:45.137314Z",
     "start_time": "2021-01-26T07:21:45.089938Z"
    }
   },
   "outputs": [],
   "source": [
    "confusionMat = confusion_matrix(yTe, yPred)\n",
    "print(confusionMat)"
   ]
  },
  {
   "cell_type": "code",
   "execution_count": null,
   "metadata": {
    "ExecuteTime": {
     "end_time": "2021-01-26T07:21:45.165453Z",
     "start_time": "2021-01-26T07:21:45.139213Z"
    }
   },
   "outputs": [],
   "source": [
    "np.where(np.sum(confusionMat, axis=0) == 0)"
   ]
  },
  {
   "cell_type": "code",
   "execution_count": null,
   "metadata": {
    "ExecuteTime": {
     "end_time": "2021-01-26T07:21:45.193716Z",
     "start_time": "2021-01-26T07:21:45.167339Z"
    },
    "scrolled": true
   },
   "outputs": [],
   "source": [
    "accuracy = np.trace(confusionMat)/np.sum(confusionMat)\n",
    "recall = np.diag(confusionMat)/np.sum(confusionMat, axis=1)\n",
    "precision = np.diag(confusionMat)/np.sum(confusionMat, axis=0)\n",
    "print(f\"accuracy: {accuracy:0.3f}, \"\n",
    "      f\"<precision>: {np.mean(precision):0.3f}, \"\n",
    "      f\"<recall>: {np.mean(recall):0.3f}\")"
   ]
  },
  {
   "cell_type": "markdown",
   "metadata": {},
   "source": [
    "##### Classification report"
   ]
  },
  {
   "cell_type": "code",
   "execution_count": null,
   "metadata": {
    "ExecuteTime": {
     "end_time": "2021-01-26T07:21:45.262729Z",
     "start_time": "2021-01-26T07:21:45.195589Z"
    },
    "scrolled": true
   },
   "outputs": [],
   "source": [
    "classificationReport = classification_report(yTe.values, yPred,\n",
    "                                             target_names=[str(c)for c in categoriesBySupport])\n",
    "print(classificationReport)"
   ]
  },
  {
   "cell_type": "markdown",
   "metadata": {},
   "source": [
    "##### Sorted `classificationReport`\n",
    "\n",
    "* Order by support"
   ]
  },
  {
   "cell_type": "code",
   "execution_count": null,
   "metadata": {
    "ExecuteTime": {
     "end_time": "2021-01-26T07:21:45.289385Z",
     "start_time": "2021-01-26T07:21:45.264351Z"
    }
   },
   "outputs": [],
   "source": [
    "print(ph.sortClassificationReport(classificationReport))"
   ]
  },
  {
   "cell_type": "markdown",
   "metadata": {},
   "source": [
    "##### Plot confusion matrix\n",
    "\n",
    "* As this is a straight confusion matrix, diagonal elements mostly reflect class size in test set\n",
    "* *This is hard to interpret by visual inspection alone*"
   ]
  },
  {
   "cell_type": "code",
   "execution_count": null,
   "metadata": {
    "ExecuteTime": {
     "end_time": "2021-01-26T07:21:45.318045Z",
     "start_time": "2021-01-26T07:21:45.291379Z"
    }
   },
   "outputs": [],
   "source": [
    "labelFontSz = 16\n",
    "tickFontSz = 13\n",
    "titleFontSz = 20"
   ]
  },
  {
   "cell_type": "code",
   "execution_count": null,
   "metadata": {
    "ExecuteTime": {
     "end_time": "2021-01-26T07:21:46.410157Z",
     "start_time": "2021-01-26T07:21:45.319675Z"
    },
    "scrolled": false
   },
   "outputs": [],
   "source": [
    "fig, ax = plt.subplots(1, 1, figsize=(12, 12))\n",
    "ph.plotConfusionMatrix(confusionMat, saveAs=None, xlabels=categories,\n",
    "                       ylabels=categories, titleText = 'LSTM 3',\n",
    "                       ax = ax,  xlabelFontSz=labelFontSz,\n",
    "                       xtickRotate=0.65, ytickRotate=0.0,\n",
    "                       ylabelFontSz=labelFontSz, xtickFontSz=tickFontSz,\n",
    "                       ytickFontSz=tickFontSz, titleFontSz=titleFontSz)"
   ]
  },
  {
   "cell_type": "markdown",
   "metadata": {},
   "source": [
    "##### Plot recall confusion matrix\n",
    "\n",
    "* normalized by *row*\n",
    "* diagonal elements now represent the *recall* for each class"
   ]
  },
  {
   "cell_type": "code",
   "execution_count": null,
   "metadata": {
    "ExecuteTime": {
     "end_time": "2021-01-26T07:21:47.557856Z",
     "start_time": "2021-01-26T07:21:46.411698Z"
    },
    "scrolled": false
   },
   "outputs": [],
   "source": [
    "fig, ax = plt.subplots(1, 1, figsize=(12, 12))\n",
    "ph.plotConfusionMatrix(confusionMat, saveAs=None, xlabels=categories,\n",
    "                       ylabels=categories, titleText = 'LSTM 3',\n",
    "                       ax = ax, xlabelFontSz=labelFontSz,\n",
    "                       xtickRotate=0.65, ytickRotate=0.0, type='recall',\n",
    "                       ylabelFontSz=labelFontSz, xtickFontSz=tickFontSz,\n",
    "                       ytickFontSz=tickFontSz, titleFontSz=titleFontSz)"
   ]
  },
  {
   "cell_type": "markdown",
   "metadata": {},
   "source": [
    "##### Plot precision confusion matrix\n",
    "\n",
    "* normalized by *column*\n",
    "* diagonal elements now represent the *precision* for each class"
   ]
  },
  {
   "cell_type": "code",
   "execution_count": null,
   "metadata": {
    "ExecuteTime": {
     "end_time": "2021-01-26T07:21:48.727931Z",
     "start_time": "2021-01-26T07:21:47.559429Z"
    },
    "scrolled": false
   },
   "outputs": [],
   "source": [
    "fig, ax = plt.subplots(1, 1, figsize=(12, 12))\n",
    "ph.plotConfusionMatrix(confusionMat, saveAs=None, xlabels=categories,\n",
    "                       ylabels=categories, titleText = 'LSTM 3',\n",
    "                       ax = ax,  xlabelFontSz=labelFontSz,\n",
    "                       xtickRotate=0.65, ytickRotate=0.0, type='precision',\n",
    "                       ylabelFontSz=labelFontSz, xtickFontSz=tickFontSz,\n",
    "                       ytickFontSz=tickFontSz, titleFontSz=titleFontSz)"
   ]
  }
 ],
 "metadata": {
  "kernelspec": {
   "display_name": "Python 3",
   "language": "python",
   "name": "python3"
  },
  "language_info": {
   "codemirror_mode": {
    "name": "ipython",
    "version": 3
   },
   "file_extension": ".py",
   "mimetype": "text/x-python",
   "name": "python",
   "nbconvert_exporter": "python",
   "pygments_lexer": "ipython3",
   "version": "3.6.9"
  },
  "toc": {
   "base_numbering": 1,
   "nav_menu": {},
   "number_sections": true,
   "sideBar": true,
   "skip_h1_title": true,
   "title_cell": "Table of Contents",
   "title_sidebar": "Contents",
   "toc_cell": false,
   "toc_position": {
    "height": "calc(100% - 180px)",
    "left": "10px",
    "top": "150px",
    "width": "322.628px"
   },
   "toc_section_display": true,
   "toc_window_display": true
  }
 },
 "nbformat": 4,
 "nbformat_minor": 4
}
